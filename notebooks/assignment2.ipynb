{
 "cells": [
  {
   "cell_type": "code",
   "execution_count": 84,
   "outputs": [],
   "source": [
    "import os\n",
    "import pandas as pd\n",
    "import numpy as np"
   ],
   "metadata": {
    "collapsed": false,
    "pycharm": {
     "name": "#%%\n"
    }
   }
  },
  {
   "cell_type": "code",
   "execution_count": 85,
   "outputs": [],
   "source": [
    "def to_bool(val):\n",
    "    if val == 1:\n",
    "        return True\n",
    "    elif val == 0:\n",
    "        return False\n",
    "    else:\n",
    "        return pd.NA\n",
    "\n",
    "data_dict = {\n",
    "    'data': {\n",
    "        'rename': {\n",
    "            'ID Number': 'id',\n",
    "            'Lifetime HC': 'cum_donation',\n",
    "            'Email Present': 'has_email',\n",
    "            'BusPhone Present': 'has_business_phone',\n",
    "            'Grad Year': 'grad_year',\n",
    "            'Marital Status': 'marital_status',\n",
    "            'SpouseID Present': 'has_spousal_record',\n",
    "            'JobTitle Present': 'has_job_title',\n",
    "            'VarsityAth Present': 'has_activity_athlete',\n",
    "            'StudGovt Present': 'has_activity_government',\n",
    "            'OtherStudActs Present': 'has_activity_other',\n",
    "            'Greek Present': 'has_activity_greek',\n",
    "            'Prefix is Mr.': 'is_mr',\n",
    "            'Prefix is Ms.': 'is_ms',\n",
    "            'Prefix is Dr.': 'is_dr',\n",
    "            'Prefix is Mrs.': 'is_mrs'\n",
    "        },\n",
    "        'dtype': {\n",
    "            'ID Number': str,\n",
    "            'Lifetime HC': float,\n",
    "            'Grad Year': int,\n",
    "            'Marital Status': str\n",
    "        },\n",
    "        'converters': {\n",
    "            'Email Present': to_bool,\n",
    "            'BusPhone Present': to_bool,\n",
    "            'SpouseID Present': to_bool,\n",
    "            'JobTitle Present': to_bool,\n",
    "            'VarsityAth Present': to_bool,\n",
    "            'StudGovt Present': to_bool,\n",
    "            'OtherStudActs Present': to_bool,\n",
    "            'Greek Present': to_bool,\n",
    "            'Prefix is Mr.': to_bool,\n",
    "            'Prefix is Ms.': to_bool,\n",
    "            'Prefix is Dr.': to_bool,\n",
    "            'Prefix is Mrs.': to_bool\n",
    "        }\n",
    "    },\n",
    "    'bin_don': {\n",
    "        'bins': [\n",
    "            0.00,\n",
    "            1.00,\n",
    "            1000.00,\n",
    "            10000.00,\n",
    "            25000.00,\n",
    "            50000.00,\n",
    "            100000.00,\n",
    "            250000.00,\n",
    "            500000.00,\n",
    "            1000000.00,\n",
    "            2500000.00,\n",
    "            5000000.00,\n",
    "            10000000.00,\n",
    "            15000000.00\n",
    "        ],\n",
    "        'labels': [\n",
    "            '$0',\n",
    "            '$1-$999.99',\n",
    "            '$1K-$9.99K',\n",
    "            '$10K-$24.99K',\n",
    "            '$25K-$49.99K',\n",
    "            '$50K-$99.99K',\n",
    "            '$100K-$249.99K',\n",
    "            '$250K-$499.99K',\n",
    "            '$500K-$999.99K',\n",
    "            '$1M-$2.49M',\n",
    "            '$2.5M-$4.99M',\n",
    "            '$5M-$9.99M',\n",
    "            '$10M-$14.99M'\n",
    "        ]\n",
    "    }\n",
    "}"
   ],
   "metadata": {
    "collapsed": false,
    "pycharm": {
     "name": "#%%\n"
    }
   }
  },
  {
   "cell_type": "code",
   "execution_count": 86,
   "outputs": [
    {
     "name": "stderr",
     "output_type": "stream",
     "text": [
      "/home/rob/.local/share/virtualenvs/assignment2-vA0J_QZc/lib/python3.10/site-packages/openpyxl/worksheet/_reader.py:312: UserWarning: Unknown extension is not supported and will be removed\n",
      "  warn(msg)\n"
     ]
    }
   ],
   "source": [
    "project_dir = os.path.join(os.path.abspath(''),os.pardir)\n",
    "data_dir = os.path.join(project_dir,'data')\n",
    "data_raw_dir = os.path.join(data_dir,'raw')\n",
    "\n",
    "file_list = []\n",
    "\n",
    "for file in os.scandir(data_raw_dir):\n",
    "    file_list.append(os.path.join(data_raw_dir,file.name))\n",
    "\n",
    "df = pd.read_excel(io=file_list[0],\n",
    "                   sheet_name='Sheet1',\n",
    "                   header=0,\n",
    "                   dtype=data_dict['data']['dtype'],\n",
    "                   converters=data_dict['data']['converters'])\n",
    "df = df.rename(columns=data_dict['data']['rename'])"
   ],
   "metadata": {
    "collapsed": false,
    "pycharm": {
     "name": "#%%\n"
    }
   }
  },
  {
   "cell_type": "code",
   "execution_count": 87,
   "outputs": [
    {
     "data": {
      "text/plain": "      cum_donation  has_email  has_business_phone  grad_year marital_status  \\\n0            159.5       True                True       1960              M   \n1              0.0       True                True       1978              M   \n2              0.0       True               False       2003              M   \n3           1500.0       True               False       1973              S   \n4            773.0       True                True       1969              M   \n...            ...        ...                 ...        ...            ...   \n4995           0.0      False                True       2000              U   \n4996           0.0      False               False       1983              S   \n4997          30.0      False               False       1976              U   \n4998           0.0      False               False       1969              U   \n4999          10.0      False               False       1939              W   \n\n      has_spousal_record  has_job_title  has_activity_athlete  \\\n0                   True          False                 False   \n1                  False           True                  True   \n2                  False           True                 False   \n3                  False           True                 False   \n4                   True           True                 False   \n...                  ...            ...                   ...   \n4995               False          False                 False   \n4996               False          False                 False   \n4997               False          False                 False   \n4998               False          False                 False   \n4999               False          False                 False   \n\n      has_activity_government  has_activity_other  has_activity_greek  is_mr  \\\n0                       False               False               False  False   \n1                       False                True               False   True   \n2                       False                True               False   True   \n3                       False               False               False  False   \n4                       False                True                True  False   \n...                       ...                 ...                 ...    ...   \n4995                    False               False               False  False   \n4996                    False               False               False  False   \n4997                    False               False               False  False   \n4998                    False               False               False  False   \n4999                    False               False               False  False   \n\n      is_ms  is_dr  is_mrs  has_donated bin_cum_don  \n0     False   True   False         True  $1-$999.99  \n1     False  False   False        False          $0  \n2     False  False   False        False          $0  \n3     False   True   False         True  $1K-$9.99K  \n4     False   True   False         True  $1-$999.99  \n...     ...    ...     ...          ...         ...  \n4995  False   True   False        False          $0  \n4996  False  False   False        False          $0  \n4997   True  False   False         True  $1-$999.99  \n4998   True  False   False        False          $0  \n4999   True  False   False         True  $1-$999.99  \n\n[5000 rows x 17 columns]",
      "text/html": "<div>\n<style scoped>\n    .dataframe tbody tr th:only-of-type {\n        vertical-align: middle;\n    }\n\n    .dataframe tbody tr th {\n        vertical-align: top;\n    }\n\n    .dataframe thead th {\n        text-align: right;\n    }\n</style>\n<table border=\"1\" class=\"dataframe\">\n  <thead>\n    <tr style=\"text-align: right;\">\n      <th></th>\n      <th>cum_donation</th>\n      <th>has_email</th>\n      <th>has_business_phone</th>\n      <th>grad_year</th>\n      <th>marital_status</th>\n      <th>has_spousal_record</th>\n      <th>has_job_title</th>\n      <th>has_activity_athlete</th>\n      <th>has_activity_government</th>\n      <th>has_activity_other</th>\n      <th>has_activity_greek</th>\n      <th>is_mr</th>\n      <th>is_ms</th>\n      <th>is_dr</th>\n      <th>is_mrs</th>\n      <th>has_donated</th>\n      <th>bin_cum_don</th>\n    </tr>\n  </thead>\n  <tbody>\n    <tr>\n      <th>0</th>\n      <td>159.5</td>\n      <td>True</td>\n      <td>True</td>\n      <td>1960</td>\n      <td>M</td>\n      <td>True</td>\n      <td>False</td>\n      <td>False</td>\n      <td>False</td>\n      <td>False</td>\n      <td>False</td>\n      <td>False</td>\n      <td>False</td>\n      <td>True</td>\n      <td>False</td>\n      <td>True</td>\n      <td>$1-$999.99</td>\n    </tr>\n    <tr>\n      <th>1</th>\n      <td>0.0</td>\n      <td>True</td>\n      <td>True</td>\n      <td>1978</td>\n      <td>M</td>\n      <td>False</td>\n      <td>True</td>\n      <td>True</td>\n      <td>False</td>\n      <td>True</td>\n      <td>False</td>\n      <td>True</td>\n      <td>False</td>\n      <td>False</td>\n      <td>False</td>\n      <td>False</td>\n      <td>$0</td>\n    </tr>\n    <tr>\n      <th>2</th>\n      <td>0.0</td>\n      <td>True</td>\n      <td>False</td>\n      <td>2003</td>\n      <td>M</td>\n      <td>False</td>\n      <td>True</td>\n      <td>False</td>\n      <td>False</td>\n      <td>True</td>\n      <td>False</td>\n      <td>True</td>\n      <td>False</td>\n      <td>False</td>\n      <td>False</td>\n      <td>False</td>\n      <td>$0</td>\n    </tr>\n    <tr>\n      <th>3</th>\n      <td>1500.0</td>\n      <td>True</td>\n      <td>False</td>\n      <td>1973</td>\n      <td>S</td>\n      <td>False</td>\n      <td>True</td>\n      <td>False</td>\n      <td>False</td>\n      <td>False</td>\n      <td>False</td>\n      <td>False</td>\n      <td>False</td>\n      <td>True</td>\n      <td>False</td>\n      <td>True</td>\n      <td>$1K-$9.99K</td>\n    </tr>\n    <tr>\n      <th>4</th>\n      <td>773.0</td>\n      <td>True</td>\n      <td>True</td>\n      <td>1969</td>\n      <td>M</td>\n      <td>True</td>\n      <td>True</td>\n      <td>False</td>\n      <td>False</td>\n      <td>True</td>\n      <td>True</td>\n      <td>False</td>\n      <td>False</td>\n      <td>True</td>\n      <td>False</td>\n      <td>True</td>\n      <td>$1-$999.99</td>\n    </tr>\n    <tr>\n      <th>...</th>\n      <td>...</td>\n      <td>...</td>\n      <td>...</td>\n      <td>...</td>\n      <td>...</td>\n      <td>...</td>\n      <td>...</td>\n      <td>...</td>\n      <td>...</td>\n      <td>...</td>\n      <td>...</td>\n      <td>...</td>\n      <td>...</td>\n      <td>...</td>\n      <td>...</td>\n      <td>...</td>\n      <td>...</td>\n    </tr>\n    <tr>\n      <th>4995</th>\n      <td>0.0</td>\n      <td>False</td>\n      <td>True</td>\n      <td>2000</td>\n      <td>U</td>\n      <td>False</td>\n      <td>False</td>\n      <td>False</td>\n      <td>False</td>\n      <td>False</td>\n      <td>False</td>\n      <td>False</td>\n      <td>False</td>\n      <td>True</td>\n      <td>False</td>\n      <td>False</td>\n      <td>$0</td>\n    </tr>\n    <tr>\n      <th>4996</th>\n      <td>0.0</td>\n      <td>False</td>\n      <td>False</td>\n      <td>1983</td>\n      <td>S</td>\n      <td>False</td>\n      <td>False</td>\n      <td>False</td>\n      <td>False</td>\n      <td>False</td>\n      <td>False</td>\n      <td>False</td>\n      <td>False</td>\n      <td>False</td>\n      <td>False</td>\n      <td>False</td>\n      <td>$0</td>\n    </tr>\n    <tr>\n      <th>4997</th>\n      <td>30.0</td>\n      <td>False</td>\n      <td>False</td>\n      <td>1976</td>\n      <td>U</td>\n      <td>False</td>\n      <td>False</td>\n      <td>False</td>\n      <td>False</td>\n      <td>False</td>\n      <td>False</td>\n      <td>False</td>\n      <td>True</td>\n      <td>False</td>\n      <td>False</td>\n      <td>True</td>\n      <td>$1-$999.99</td>\n    </tr>\n    <tr>\n      <th>4998</th>\n      <td>0.0</td>\n      <td>False</td>\n      <td>False</td>\n      <td>1969</td>\n      <td>U</td>\n      <td>False</td>\n      <td>False</td>\n      <td>False</td>\n      <td>False</td>\n      <td>False</td>\n      <td>False</td>\n      <td>False</td>\n      <td>True</td>\n      <td>False</td>\n      <td>False</td>\n      <td>False</td>\n      <td>$0</td>\n    </tr>\n    <tr>\n      <th>4999</th>\n      <td>10.0</td>\n      <td>False</td>\n      <td>False</td>\n      <td>1939</td>\n      <td>W</td>\n      <td>False</td>\n      <td>False</td>\n      <td>False</td>\n      <td>False</td>\n      <td>False</td>\n      <td>False</td>\n      <td>False</td>\n      <td>True</td>\n      <td>False</td>\n      <td>False</td>\n      <td>True</td>\n      <td>$1-$999.99</td>\n    </tr>\n  </tbody>\n</table>\n<p>5000 rows × 17 columns</p>\n</div>"
     },
     "execution_count": 87,
     "metadata": {},
     "output_type": "execute_result"
    }
   ],
   "source": [
    "# remove columns that add no data\n",
    "del df['id']\n",
    "\n",
    "# create a logistic column version of cum_donation_value called has_donated as an additional target variable\n",
    "df['has_donated'] = np.where(df['cum_donation']>0.0,True,False)\n",
    "\n",
    "# linear target cum_donation_value\n",
    "y_lin = df['cum_donation']\n",
    "\n",
    "# logistic target has_donated\n",
    "y_log = df['has_donated']\n",
    "\n",
    "# imputing\n",
    "\n",
    "# knnimputing\n",
    "\n",
    "# binning\n",
    "df.sort_values('cum_donation')\n",
    "df['bin_cum_don'] = \\\n",
    "    pd.cut(x=df['cum_donation'],\n",
    "           bins=data_dict['bin_don']['bins'],\n",
    "           labels=data_dict['bin_don']['labels'],\n",
    "           right=False)\n",
    "df"
   ],
   "metadata": {
    "collapsed": false,
    "pycharm": {
     "name": "#%%\n"
    }
   }
  },
  {
   "cell_type": "code",
   "execution_count": 88,
   "outputs": [],
   "source": [
    "# M - Married, S - Single, U - Unknown, D - Divorced, W - Widowed, PEZ - don't know\n",
    "# TODO: move all U, E, P, Z, and NaN to Unknown and categorize"
   ],
   "metadata": {
    "collapsed": false,
    "pycharm": {
     "name": "#%%\n"
    }
   }
  },
  {
   "cell_type": "markdown",
   "source": [
    "# Assignment 2"
   ],
   "metadata": {
    "collapsed": false,
    "pycharm": {
     "name": "#%% md\n"
    }
   }
  },
  {
   "cell_type": "markdown",
   "source": [
    "## Introduction"
   ],
   "metadata": {
    "collapsed": false,
    "pycharm": {
     "name": "#%% md\n"
    }
   }
  },
  {
   "cell_type": "markdown",
   "source": [
    "## Data Exploration"
   ],
   "metadata": {
    "collapsed": false,
    "pycharm": {
     "name": "#%% md\n"
    }
   }
  },
  {
   "cell_type": "markdown",
   "source": [
    "## Data-Preparation"
   ],
   "metadata": {
    "collapsed": false,
    "pycharm": {
     "name": "#%% md\n"
    }
   }
  },
  {
   "cell_type": "markdown",
   "source": [
    "### Identifying Significant Features"
   ],
   "metadata": {
    "collapsed": false,
    "pycharm": {
     "name": "#%% md\n"
    }
   }
  },
  {
   "cell_type": "markdown",
   "source": [
    "### Imputing and Variable Creation"
   ],
   "metadata": {
    "collapsed": false,
    "pycharm": {
     "name": "#%% md\n"
    }
   }
  },
  {
   "cell_type": "markdown",
   "source": [
    "## Data Modeling"
   ],
   "metadata": {
    "collapsed": false,
    "pycharm": {
     "name": "#%% md\n"
    }
   }
  },
  {
   "cell_type": "markdown",
   "source": [
    "### Scaling"
   ],
   "metadata": {
    "collapsed": false,
    "pycharm": {
     "name": "#%% md\n"
    }
   }
  },
  {
   "cell_type": "markdown",
   "source": [
    "## Model Evaluation"
   ],
   "metadata": {
    "collapsed": false,
    "pycharm": {
     "name": "#%% md\n"
    }
   }
  },
  {
   "cell_type": "markdown",
   "source": [
    "## Conclusion"
   ],
   "metadata": {
    "collapsed": false
   }
  },
  {
   "cell_type": "code",
   "execution_count": 88,
   "outputs": [],
   "source": [],
   "metadata": {
    "collapsed": false,
    "pycharm": {
     "name": "#%%\n"
    }
   }
  }
 ],
 "metadata": {
  "kernelspec": {
   "display_name": "Python 3",
   "language": "python",
   "name": "python3"
  },
  "language_info": {
   "codemirror_mode": {
    "name": "ipython",
    "version": 2
   },
   "file_extension": ".py",
   "mimetype": "text/x-python",
   "name": "python",
   "nbconvert_exporter": "python",
   "pygments_lexer": "ipython2",
   "version": "2.7.6"
  }
 },
 "nbformat": 4,
 "nbformat_minor": 0
}
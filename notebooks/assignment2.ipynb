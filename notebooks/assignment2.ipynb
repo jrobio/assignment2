{
 "cells": [
  {
   "cell_type": "code",
   "execution_count": 20,
   "outputs": [],
   "source": [
    "import os\n",
    "import pandas as pd\n",
    "import numpy as np\n",
    "from sklearn.impute import KNNImputer\n",
    "from sklearn.feature_selection import SelectKBest\n",
    "from sklearn.feature_selection import chi2\n",
    "from sklearn.preprocessing import MinMaxScaler\n",
    "from sklearn.preprocessing import StandardScaler\n",
    "from sklearn.preprocessing import RobustScaler\n",
    "from collections import Counter\n",
    "from collections import defaultdict\n",
    "from collections import deque\n",
    "import re"
   ],
   "metadata": {
    "collapsed": false,
    "pycharm": {
     "name": "#%%\n"
    }
   }
  },
  {
   "cell_type": "code",
   "execution_count": 21,
   "outputs": [],
   "source": [
    "def marital_status_to_num(val):\n",
    "    if val == 'M':\n",
    "        return 0\n",
    "    elif val == 'S':\n",
    "        return 1\n",
    "    elif val == 'D':\n",
    "        return 2\n",
    "    elif val == 'W':\n",
    "        return 3\n",
    "    else:\n",
    "        return np.nan\n",
    "\n",
    "def marital_status_to_str(val):\n",
    "    if val == 0:\n",
    "        return 'married'\n",
    "    elif val == 1:\n",
    "        return 'single'\n",
    "    elif val == 2:\n",
    "        return 'divorced'\n",
    "    elif val == 3:\n",
    "        return 'widowed'\n",
    "    else:\n",
    "        return np.nan\n",
    "\n",
    "data_dict = {\n",
    "    'data': {\n",
    "        'rename': {\n",
    "            'ID Number': 'id',\n",
    "            'Lifetime HC': 'cum_donation',\n",
    "            'Email Present': 'has_email',\n",
    "            'BusPhone Present': 'has_business_phone',\n",
    "            'Grad Year': 'grad_year',\n",
    "            'Marital Status': 'marital_status',\n",
    "            'SpouseID Present': 'has_spousal_record',\n",
    "            'JobTitle Present': 'has_job_title',\n",
    "            'VarsityAth Present': 'has_activity_athlete',\n",
    "            'StudGovt Present': 'has_activity_government',\n",
    "            'OtherStudActs Present': 'has_activity_other',\n",
    "            'Greek Present': 'has_activity_greek',\n",
    "            'Prefix is Mr.': 'is_mr',\n",
    "            'Prefix is Ms.': 'is_ms',\n",
    "            'Prefix is Dr.': 'is_dr',\n",
    "            'Prefix is Mrs.': 'is_mrs'\n",
    "        },\n",
    "        'dtype': {\n",
    "            'ID Number': str,\n",
    "            'Lifetime HC': float,\n",
    "            'Grad Year': int,\n",
    "            'Marital Status': str\n",
    "        }\n",
    "    },\n",
    "    'dummy': {\n",
    "        'list': [\n",
    "            'cum_range',\n",
    "            'grad_decade',\n",
    "            'imp_marital_status',\n",
    "        ],\n",
    "        'prefix': {\n",
    "            'cum_range': 'bin_cum_range',\n",
    "            'grad_decade': 'bin_grad_decade',\n",
    "            'imp_marital_status': 'bin_imp_marital_status'\n",
    "        },\n",
    "        'giving': {\n",
    "            'bins': [\n",
    "                0.00,\n",
    "                1.00,\n",
    "                1000.00,\n",
    "                10000.00,\n",
    "                25000.00,\n",
    "                50000.00,\n",
    "                100000.00,\n",
    "                250000.00,\n",
    "                500000.00,\n",
    "                1000000.00,\n",
    "                2500000.00,\n",
    "                5000000.00,\n",
    "                10000000.00,\n",
    "                15000000.00\n",
    "            ],\n",
    "            'labels': [\n",
    "                '$0',\n",
    "                '$1-$999.99',\n",
    "                '$1K-$9.99K',\n",
    "                '$10K-$24.99K',\n",
    "                '$25K-$49.99K',\n",
    "                '$50K-$99.99K',\n",
    "                '$100K-$249.99K',\n",
    "                '$250K-$499.99K',\n",
    "                '$500K-$999.99K',\n",
    "                '$1M-$2.49M',\n",
    "                '$2.5M-$4.99M',\n",
    "                '$5M-$9.99M',\n",
    "                '$10M-$14.99M'\n",
    "            ]\n",
    "        },\n",
    "        'grad': {\n",
    "            'bins': [\n",
    "                1900,\n",
    "                1910,\n",
    "                1920,\n",
    "                1930,\n",
    "                1940,\n",
    "                1950,\n",
    "                1960,\n",
    "                1970,\n",
    "                1980,\n",
    "                1990,\n",
    "                2000,\n",
    "                2010,\n",
    "                2020\n",
    "            ],\n",
    "            'labels': [\n",
    "                '1900s',\n",
    "                '1910s',\n",
    "                '1920s',\n",
    "                '1930s',\n",
    "                '1940s',\n",
    "                '1950s',\n",
    "                '1960s',\n",
    "                '1970s',\n",
    "                '1980s',\n",
    "                '1990s',\n",
    "                '2000s',\n",
    "                '2010s'\n",
    "            ]\n",
    "        }\n",
    "    },\n",
    "    'cols': {\n",
    "        'bools': [\n",
    "            'has_email',\n",
    "            'has_business_phone',\n",
    "            'has_spousal_record',\n",
    "            'has_job_title',\n",
    "            'has_activity_athlete',\n",
    "            'has_activity_government',\n",
    "            'has_activity_other',\n",
    "            'has_activity_greek',\n",
    "            'is_mr',\n",
    "            'is_ms',\n",
    "            'is_dr',\n",
    "            'is_mrs',\n",
    "            'has_donated'\n",
    "        ],\n",
    "        'bin_grad': [\n",
    "            'bin_grad_decade_1900s',\n",
    "            'bin_grad_decade_1910s',\n",
    "            'bin_grad_decade_1920s',\n",
    "            'bin_grad_decade_1930s',\n",
    "            'bin_grad_decade_1940s',\n",
    "            'bin_grad_decade_1950s',\n",
    "            'bin_grad_decade_1960s',\n",
    "            'bin_grad_decade_1970s',\n",
    "            'bin_grad_decade_1980s',\n",
    "            'bin_grad_decade_1990s',\n",
    "            'bin_grad_decade_2000s',\n",
    "            'bin_grad_decade_2010s'\n",
    "        ],\n",
    "        'bin_giving': [\n",
    "            'bin_cum_range_$0',\n",
    "            'bin_cum_range_$1-$999.99',\n",
    "            'bin_cum_range_$1K-$9.99K',\n",
    "            'bin_cum_range_$10K-$24.99K',\n",
    "            'bin_cum_range_$25K-$49.99K',\n",
    "            'bin_cum_range_$50K-$99.99K',\n",
    "            'bin_cum_range_$100K-$249.99K',\n",
    "            'bin_cum_range_$250K-$499.99K',\n",
    "            'bin_cum_range_$500K-$999.99K',\n",
    "            'bin_cum_range_$1M-$2.49M',\n",
    "            'bin_cum_range_$2.5M-$4.99M',\n",
    "            'bin_cum_range_$5M-$9.99M',\n",
    "            'bin_cum_range_$10M-$14.99M'\n",
    "        ],\n",
    "        'bin_marital': [\n",
    "            'bin_imp_marital_status_divorced',\n",
    "            'bin_imp_marital_status_married',\n",
    "            'bin_imp_marital_status_single',\n",
    "            'bin_imp_marital_status_widowed'\n",
    "        ],\n",
    "        'log': [\n",
    "            'has_donated'\n",
    "        ],\n",
    "        'lin': [\n",
    "            'cum_donation'\n",
    "        ]\n",
    "    }\n",
    "}\n",
    "\n",
    "models = list(dict())"
   ],
   "metadata": {
    "collapsed": false,
    "pycharm": {
     "name": "#%%\n"
    }
   }
  },
  {
   "cell_type": "code",
   "execution_count": 22,
   "outputs": [
    {
     "name": "stderr",
     "output_type": "stream",
     "text": [
      "/home/rob/.local/share/virtualenvs/assignment2-vA0J_QZc/lib/python3.10/site-packages/openpyxl/worksheet/_reader.py:312: UserWarning: Unknown extension is not supported and will be removed\n",
      "  warn(msg)\n"
     ]
    }
   ],
   "source": [
    "project_dir = os.path.join(os.path.abspath(''),os.pardir)\n",
    "data_dir = os.path.join(project_dir,'data')\n",
    "data_raw_dir = os.path.join(data_dir,'raw')\n",
    "\n",
    "file_list = []\n",
    "\n",
    "for file in os.scandir(data_raw_dir):\n",
    "    file_list.append(os.path.join(data_raw_dir,file.name))\n",
    "\n",
    "df = pd.read_excel(io=file_list[0],\n",
    "                   sheet_name='Sheet1',\n",
    "                   dtype=data_dict['data']['dtype'])\n",
    "df = df.rename(columns=data_dict['data']['rename'])"
   ],
   "metadata": {
    "collapsed": false,
    "pycharm": {
     "name": "#%%\n"
    }
   }
  },
  {
   "cell_type": "code",
   "execution_count": 23,
   "outputs": [],
   "source": [
    "# drop irrelevant columns\n",
    "df = df.drop(columns='id')"
   ],
   "metadata": {
    "collapsed": false,
    "pycharm": {
     "name": "#%%\n"
    }
   }
  },
  {
   "cell_type": "code",
   "execution_count": 24,
   "outputs": [],
   "source": [
    "# create a logistic column version of cum_donation_value called has_donated as an additional target variable\n",
    "df['has_donated'] = np.where(df['cum_donation']>0.0,True,False)\n",
    "\n",
    "y_log = df[['has_donated']]\n",
    "y_lin = df[['cum_donation']]"
   ],
   "metadata": {
    "collapsed": false,
    "pycharm": {
     "name": "#%%\n"
    }
   }
  },
  {
   "cell_type": "code",
   "execution_count": 25,
   "outputs": [],
   "source": [
    "# imputing\n",
    "df['marital_status'] = df['marital_status'].apply(marital_status_to_num)\n",
    "df.loc[df['marital_status'].isnull(),'m_marital_status'] = 1\n",
    "df.loc[df['marital_status'].notnull(),'m_marital_status'] = 0\n",
    "\n",
    "df_marital_status = df[['m_marital_status']]\n",
    "df = df.drop(columns='m_marital_status')\n",
    "\n",
    "imputer = KNNImputer(n_neighbors=5)\n",
    "df = pd.DataFrame(imputer.fit_transform(df),columns=df.columns)\n",
    "df = df.rename(columns={'marital_status': 'imp_marital_status'})\n",
    "df = pd.concat((df,df_marital_status),axis=1)\n",
    "\n",
    "df['imp_marital_status'] = df['imp_marital_status'].round().astype(int)\n",
    "df['imp_marital_status'] = df['imp_marital_status'].apply(marital_status_to_str)\n",
    "df[data_dict['cols']['bools']] = df[data_dict['cols']['bools']].astype(int)"
   ],
   "metadata": {
    "collapsed": false,
    "pycharm": {
     "name": "#%%\n"
    }
   }
  },
  {
   "cell_type": "code",
   "execution_count": 26,
   "outputs": [],
   "source": [
    "# binning\n",
    "df.sort_values('cum_donation',inplace=True)\n",
    "df['cum_range'] = \\\n",
    "    pd.cut(x=df['cum_donation'],\n",
    "           bins=data_dict['dummy']['giving']['bins'],\n",
    "           labels=data_dict['dummy']['giving']['labels'],\n",
    "           right=False)\n",
    "df.sort_values('grad_year',inplace=True)\n",
    "df['grad_decade'] = pd.cut(x=df['grad_year'],\n",
    "                           bins=data_dict['dummy']['grad']['bins'],\n",
    "                           labels=data_dict['dummy']['grad']['labels'],\n",
    "                           right=False)\n",
    "df.sort_index(inplace=True)"
   ],
   "metadata": {
    "collapsed": false,
    "pycharm": {
     "name": "#%%\n"
    }
   }
  },
  {
   "cell_type": "code",
   "execution_count": 27,
   "outputs": [],
   "source": [
    "# dummying\n",
    "dummy_filter = df[data_dict['dummy']['list']]\n",
    "dummy_df = pd.get_dummies(data=dummy_filter,\n",
    "                          prefix=data_dict['dummy']['prefix'],\n",
    "                          columns=data_dict['dummy']['list'])\n",
    "df = pd.concat(([df,dummy_df]),axis=1)\n",
    "\n",
    "# all possible lin/log features\n",
    "X = df.drop(columns=['imp_marital_status','cum_range','grad_decade'])\n",
    "\n",
    "X_cols = X.columns.tolist()\n",
    "\n",
    "# Different models will be denoted through an encoded sting of\n",
    "# bits from right to left. As more variety is introduced this\n",
    "# bitwise representation will grow in length.\n",
    "\n",
    "# 0 bit: is linear regression\n",
    "for i in [1,0]:\n",
    "    model_bit = deque()\n",
    "    if i == 1:\n",
    "        model_bit.appendleft('1')\n",
    "        feature_list_lv0 = list((Counter(X_cols)\n",
    "                                 -Counter(data_dict['cols']['lin']))\n",
    "                                .elements())\n",
    "    else:\n",
    "        model_bit.appendleft('0')\n",
    "        feature_list_lv0 = list((Counter(X_cols)\n",
    "                                 -Counter(data_dict['cols']['log']))\n",
    "                                .elements())\n",
    "\n",
    "    # 1 bit: is grad_year binned\n",
    "    for j in [1,0]:\n",
    "        if j == 1:\n",
    "            model_bit.appendleft('1')\n",
    "            feature_list_lv1 = list((Counter(feature_list_lv0)\n",
    "                                     -Counter(['grad_year']))\n",
    "                                    .elements())\n",
    "        else:\n",
    "            model_bit.appendleft('0')\n",
    "            feature_list_lv1 = list((Counter(feature_list_lv0)\n",
    "                                     -Counter(data_dict['cols']['bin_grad']))\n",
    "                                    .elements())\n",
    "\n",
    "        # 2 bit: is cum_donation binned\n",
    "        for k in [1,0]:\n",
    "            feature_list_lv2 = feature_list_lv1\n",
    "            if k == 1:\n",
    "                model_bit.appendleft('1')\n",
    "                feature_list_lv2 = list((Counter(feature_list_lv1)\n",
    "                                         -Counter(['cum_donation']))\n",
    "                                        .elements())\n",
    "            else:\n",
    "                model_bit.appendleft('0')\n",
    "                feature_list_lv2 = list((Counter(feature_list_lv1)\n",
    "                     -Counter(data_dict['cols']['bin_giving']))\n",
    "                    .elements())\n",
    "            bit_str = ''.join(model_bit)\n",
    "\n",
    "            # filter linear regressions where linear target would be\n",
    "            # present\n",
    "            if not re.match('1\\d1',bit_str):\n",
    "                model_dict = {\n",
    "                    bit_str: {\n",
    "                        'features': feature_list_lv2\n",
    "                    }\n",
    "                }\n",
    "                models.append(model_dict)\n",
    "            model_bit.popleft()\n",
    "        model_bit.popleft()\n",
    "    model_bit.popleft()"
   ],
   "metadata": {
    "collapsed": false,
    "pycharm": {
     "name": "#%%\n"
    }
   }
  },
  {
   "cell_type": "code",
   "execution_count": 28,
   "outputs": [],
   "source": [
    "# 3 bit: chi-square filtered (linear is always 0)\n",
    "# test = SelectKBest(score_func=chi2,k='all')\n",
    "# np.set_printoptions(precision=3)\n",
    "#\n",
    "# for k,v in feature_dict['log'].items():\n",
    "#     chi_scores = test.fit(feature_dict['log'][k]['df'], y_log)\n",
    "#     chi_scores_list = list(zip(list(feature_dict['log'][k]['df'].columns), chi_scores.scores_))\n",
    "#     chi_scores_df = pd.DataFrame(chi_scores_list,columns=['predictor','significance'])\n",
    "#     chi_scores_df.sort_values('significance',ascending=False,inplace=True)\n",
    "#     feature_dict['log'][k]['chi'] = list(chi_scores_df['predictor'][chi_scores_df['significance'] > 3.8])\n",
    "#     print(feature_dict['log'][k]['chi'])"
   ],
   "metadata": {
    "collapsed": false,
    "pycharm": {
     "name": "#%%\n"
    }
   }
  },
  {
   "cell_type": "code",
   "execution_count": 29,
   "outputs": [],
   "source": [
    "# Logistic Feature Selection, RFE | FFS"
   ],
   "metadata": {
    "collapsed": false,
    "pycharm": {
     "name": "#%%\n"
    }
   }
  },
  {
   "cell_type": "markdown",
   "source": [
    "# Assignment 2"
   ],
   "metadata": {
    "collapsed": false,
    "pycharm": {
     "name": "#%% md\n"
    }
   }
  },
  {
   "cell_type": "markdown",
   "source": [
    "## Introduction"
   ],
   "metadata": {
    "collapsed": false,
    "pycharm": {
     "name": "#%% md\n"
    }
   }
  },
  {
   "cell_type": "markdown",
   "source": [
    "## Data Exploration"
   ],
   "metadata": {
    "collapsed": false,
    "pycharm": {
     "name": "#%% md\n"
    }
   }
  },
  {
   "cell_type": "markdown",
   "source": [
    "## Data-Preparation"
   ],
   "metadata": {
    "collapsed": false,
    "pycharm": {
     "name": "#%% md\n"
    }
   }
  },
  {
   "cell_type": "markdown",
   "source": [
    "### Identifying Significant Features"
   ],
   "metadata": {
    "collapsed": false,
    "pycharm": {
     "name": "#%% md\n"
    }
   }
  },
  {
   "cell_type": "markdown",
   "source": [
    "### Imputing and Variable Creation"
   ],
   "metadata": {
    "collapsed": false,
    "pycharm": {
     "name": "#%% md\n"
    }
   }
  },
  {
   "cell_type": "markdown",
   "source": [
    "## Data Modeling"
   ],
   "metadata": {
    "collapsed": false,
    "pycharm": {
     "name": "#%% md\n"
    }
   }
  },
  {
   "cell_type": "markdown",
   "source": [
    "### Scaling"
   ],
   "metadata": {
    "collapsed": false,
    "pycharm": {
     "name": "#%% md\n"
    }
   }
  },
  {
   "cell_type": "markdown",
   "source": [
    "## Model Evaluation"
   ],
   "metadata": {
    "collapsed": false,
    "pycharm": {
     "name": "#%% md\n"
    }
   }
  },
  {
   "cell_type": "markdown",
   "source": [
    "## Conclusion"
   ],
   "metadata": {
    "collapsed": false
   }
  },
  {
   "cell_type": "code",
   "execution_count": 29,
   "outputs": [],
   "source": [],
   "metadata": {
    "collapsed": false,
    "pycharm": {
     "name": "#%%\n"
    }
   }
  }
 ],
 "metadata": {
  "kernelspec": {
   "display_name": "Python 3",
   "language": "python",
   "name": "python3"
  },
  "language_info": {
   "codemirror_mode": {
    "name": "ipython",
    "version": 2
   },
   "file_extension": ".py",
   "mimetype": "text/x-python",
   "name": "python",
   "nbconvert_exporter": "python",
   "pygments_lexer": "ipython2",
   "version": "2.7.6"
  }
 },
 "nbformat": 4,
 "nbformat_minor": 0
}
{
 "cells": [
  {
   "cell_type": "code",
   "execution_count": 102,
   "outputs": [],
   "source": [
    "# import libraries\n",
    "\n",
    "import os\n",
    "import re\n",
    "import pandas as pd\n",
    "import numpy as np\n",
    "import matplotlib\n",
    "import statsmodels.api as sm\n",
    "from sklearn.impute import KNNImputer\n",
    "from sklearn.feature_selection import SelectKBest\n",
    "from sklearn.feature_selection import chi2\n",
    "from sklearn.feature_selection import RFECV\n",
    "from sklearn.feature_selection import f_regression\n",
    "from sklearn.preprocessing import MinMaxScaler\n",
    "from sklearn.preprocessing import StandardScaler\n",
    "from sklearn.preprocessing import RobustScaler\n",
    "from sklearn.model_selection import train_test_split\n",
    "from sklearn.model_selection import KFold\n",
    "from sklearn.ensemble import RandomForestClassifier\n",
    "from sklearn.linear_model import LogisticRegression\n",
    "from sklearn.linear_model import LinearRegression\n",
    "from sklearn.linear_model import ElasticNet\n",
    "from sklearn.tree import DecisionTreeRegressor\n",
    "from sklearn.svm import SVR\n",
    "from sklearn.ensemble import AdaBoostRegressor\n",
    "from sklearn.ensemble import RandomForestRegressor\n",
    "from sklearn.ensemble import ExtraTreesRegressor\n",
    "from sklearn.tree import DecisionTreeClassifier\n",
    "from sklearn.ensemble import AdaBoostClassifier\n",
    "from sklearn.ensemble import RandomForestClassifier\n",
    "from sklearn.metrics import mean_squared_error\n",
    "from sklearn import metrics\n",
    "from collections import Counter\n",
    "from collections import defaultdict\n",
    "from collections import deque\n"
   ],
   "metadata": {
    "collapsed": false,
    "pycharm": {
     "name": "#%%\n"
    }
   }
  },
  {
   "cell_type": "code",
   "execution_count": 103,
   "outputs": [
    {
     "data": {
      "text/plain": "{'divide': 'ignore', 'over': 'warn', 'under': 'ignore', 'invalid': 'ignore'}"
     },
     "execution_count": 103,
     "metadata": {},
     "output_type": "execute_result"
    }
   ],
   "source": [
    "# Set some options\n",
    "np.set_printoptions(precision=3)\n",
    "np.seterr(divide='ignore',invalid='ignore')"
   ],
   "metadata": {
    "collapsed": false,
    "pycharm": {
     "name": "#%%\n"
    }
   }
  },
  {
   "cell_type": "code",
   "execution_count": 104,
   "outputs": [],
   "source": [
    "# define data and util functions\n",
    "\n",
    "def marital_status_to_num(val):\n",
    "    if val == 'M':\n",
    "        return 0\n",
    "    elif val == 'S':\n",
    "        return 1\n",
    "    elif val == 'D':\n",
    "        return 2\n",
    "    elif val == 'W':\n",
    "        return 3\n",
    "    else:\n",
    "        return np.nan\n",
    "\n",
    "def marital_status_to_str(val):\n",
    "    if val == 0:\n",
    "        return 'married'\n",
    "    elif val == 1:\n",
    "        return 'single'\n",
    "    elif val == 2:\n",
    "        return 'divorced'\n",
    "    elif val == 3:\n",
    "        return 'widowed'\n",
    "    else:\n",
    "        return np.nan\n",
    "\n",
    "data_dict = {\n",
    "    'data': {\n",
    "        'rename': {\n",
    "            'ID Number': 'id',\n",
    "            'Lifetime HC': 'cum_donation',\n",
    "            'Email Present': 'has_email',\n",
    "            'BusPhone Present': 'has_business_phone',\n",
    "            'Grad Year': 'grad_year',\n",
    "            'Marital Status': 'marital_status',\n",
    "            'SpouseID Present': 'has_spousal_record',\n",
    "            'JobTitle Present': 'has_job_title',\n",
    "            'VarsityAth Present': 'has_activity_athlete',\n",
    "            'StudGovt Present': 'has_activity_government',\n",
    "            'OtherStudActs Present': 'has_activity_other',\n",
    "            'Greek Present': 'has_activity_greek',\n",
    "            'Prefix is Mr.': 'is_mr',\n",
    "            'Prefix is Ms.': 'is_ms',\n",
    "            'Prefix is Dr.': 'is_dr',\n",
    "            'Prefix is Mrs.': 'is_mrs'\n",
    "        },\n",
    "        'dtype': {\n",
    "            'ID Number': str,\n",
    "            'Lifetime HC': float,\n",
    "            'Grad Year': int,\n",
    "            'Marital Status': str\n",
    "        }\n",
    "    },\n",
    "    'dummy': {\n",
    "        'list': [\n",
    "            'cum_range',\n",
    "            'grad_decade',\n",
    "            'imp_marital_status',\n",
    "        ],\n",
    "        'prefix': {\n",
    "            'cum_range': 'bin_cum_range',\n",
    "            'grad_decade': 'bin_grad_decade',\n",
    "            'imp_marital_status': 'bin_imp_marital_status'\n",
    "        },\n",
    "        'giving': {\n",
    "            'bins': [\n",
    "                0.00,\n",
    "                1.00,\n",
    "                1000.00,\n",
    "                10000.00,\n",
    "                25000.00,\n",
    "                50000.00,\n",
    "                100000.00,\n",
    "                250000.00,\n",
    "                500000.00,\n",
    "                1000000.00,\n",
    "                2500000.00,\n",
    "                5000000.00,\n",
    "                10000000.00,\n",
    "                15000000.00\n",
    "            ],\n",
    "            'labels': [\n",
    "                '$0',\n",
    "                '$1-$999.99',\n",
    "                '$1K-$9.99K',\n",
    "                '$10K-$24.99K',\n",
    "                '$25K-$49.99K',\n",
    "                '$50K-$99.99K',\n",
    "                '$100K-$249.99K',\n",
    "                '$250K-$499.99K',\n",
    "                '$500K-$999.99K',\n",
    "                '$1M-$2.49M',\n",
    "                '$2.5M-$4.99M',\n",
    "                '$5M-$9.99M',\n",
    "                '$10M-$14.99M'\n",
    "            ]\n",
    "        },\n",
    "        'grad': {\n",
    "            'bins': [\n",
    "                1900,\n",
    "                1910,\n",
    "                1920,\n",
    "                1930,\n",
    "                1940,\n",
    "                1950,\n",
    "                1960,\n",
    "                1970,\n",
    "                1980,\n",
    "                1990,\n",
    "                2000,\n",
    "                2010,\n",
    "                2020\n",
    "            ],\n",
    "            'labels': [\n",
    "                '1900s',\n",
    "                '1910s',\n",
    "                '1920s',\n",
    "                '1930s',\n",
    "                '1940s',\n",
    "                '1950s',\n",
    "                '1960s',\n",
    "                '1970s',\n",
    "                '1980s',\n",
    "                '1990s',\n",
    "                '2000s',\n",
    "                '2010s'\n",
    "            ]\n",
    "        }\n",
    "    },\n",
    "    'cols': {\n",
    "        'bools': [\n",
    "            'has_email',\n",
    "            'has_business_phone',\n",
    "            'has_spousal_record',\n",
    "            'has_job_title',\n",
    "            'has_activity_athlete',\n",
    "            'has_activity_government',\n",
    "            'has_activity_other',\n",
    "            'has_activity_greek',\n",
    "            'is_mr',\n",
    "            'is_ms',\n",
    "            'is_dr',\n",
    "            'is_mrs',\n",
    "            'has_donated'\n",
    "        ],\n",
    "        'bin_grad': [\n",
    "            'bin_grad_decade_1900s',\n",
    "            'bin_grad_decade_1910s',\n",
    "            'bin_grad_decade_1920s',\n",
    "            'bin_grad_decade_1930s',\n",
    "            'bin_grad_decade_1940s',\n",
    "            'bin_grad_decade_1950s',\n",
    "            'bin_grad_decade_1960s',\n",
    "            'bin_grad_decade_1970s',\n",
    "            'bin_grad_decade_1980s',\n",
    "            'bin_grad_decade_1990s',\n",
    "            'bin_grad_decade_2000s',\n",
    "            'bin_grad_decade_2010s'\n",
    "        ],\n",
    "        'bin_giving': [\n",
    "            'bin_cum_range_$0',\n",
    "            'bin_cum_range_$1-$999.99',\n",
    "            'bin_cum_range_$1K-$9.99K',\n",
    "            'bin_cum_range_$10K-$24.99K',\n",
    "            'bin_cum_range_$25K-$49.99K',\n",
    "            'bin_cum_range_$50K-$99.99K',\n",
    "            'bin_cum_range_$100K-$249.99K',\n",
    "            'bin_cum_range_$250K-$499.99K',\n",
    "            'bin_cum_range_$500K-$999.99K',\n",
    "            'bin_cum_range_$1M-$2.49M',\n",
    "            'bin_cum_range_$2.5M-$4.99M',\n",
    "            'bin_cum_range_$5M-$9.99M',\n",
    "            'bin_cum_range_$10M-$14.99M'\n",
    "        ],\n",
    "        'bin_marital': [\n",
    "            'bin_imp_marital_status_divorced',\n",
    "            'bin_imp_marital_status_married',\n",
    "            'bin_imp_marital_status_single',\n",
    "            'bin_imp_marital_status_widowed'\n",
    "        ],\n",
    "        'log': [\n",
    "            'has_donated'\n",
    "        ],\n",
    "        'lin': [\n",
    "            'cum_donation'\n",
    "        ]\n",
    "    }\n",
    "}"
   ],
   "metadata": {
    "collapsed": false,
    "pycharm": {
     "name": "#%%\n"
    }
   }
  },
  {
   "cell_type": "code",
   "execution_count": 105,
   "outputs": [
    {
     "name": "stderr",
     "output_type": "stream",
     "text": [
      "/home/rob/.local/share/virtualenvs/assignment2-vA0J_QZc/lib/python3.10/site-packages/openpyxl/worksheet/_reader.py:312: UserWarning: Unknown extension is not supported and will be removed\n",
      "  warn(msg)\n"
     ]
    }
   ],
   "source": [
    "project_dir = os.path.join(os.path.abspath(''),os.pardir)\n",
    "data_dir = os.path.join(project_dir,'data')\n",
    "data_raw_dir = os.path.join(data_dir,'raw')\n",
    "\n",
    "file_list = []\n",
    "\n",
    "for file in os.scandir(data_raw_dir):\n",
    "    file_list.append(os.path.join(data_raw_dir,file.name))\n",
    "\n",
    "df = pd.read_excel(io=file_list[0],\n",
    "                   sheet_name='Sheet1',\n",
    "                   dtype=data_dict['data']['dtype'])\n",
    "df = df.rename(columns=data_dict['data']['rename'])\n",
    "dre_df = df"
   ],
   "metadata": {
    "collapsed": false,
    "pycharm": {
     "name": "#%%\n"
    }
   }
  },
  {
   "cell_type": "code",
   "execution_count": 106,
   "outputs": [],
   "source": [
    "# drop irrelevant columns\n",
    "df = df.drop(columns='id')"
   ],
   "metadata": {
    "collapsed": false,
    "pycharm": {
     "name": "#%%\n"
    }
   }
  },
  {
   "cell_type": "code",
   "execution_count": 107,
   "outputs": [],
   "source": [
    "# create a logistic column version of cum_donation_value called has_donated as an additional target variable\n",
    "df['has_donated'] = np.where(df['cum_donation']>0.0,1,0)\n",
    "\n",
    "y_log = df[['has_donated']]\n",
    "y_lin = df[['cum_donation']]"
   ],
   "metadata": {
    "collapsed": false,
    "pycharm": {
     "name": "#%%\n"
    }
   }
  },
  {
   "cell_type": "code",
   "execution_count": 108,
   "outputs": [],
   "source": [
    "# imputing\n",
    "df['marital_status'] = df['marital_status'].apply(marital_status_to_num)\n",
    "df.loc[df['marital_status'].isnull(),'m_marital_status'] = 1\n",
    "df.loc[df['marital_status'].notnull(),'m_marital_status'] = 0\n",
    "\n",
    "df_marital_status = df[['m_marital_status']]\n",
    "df = df.drop(columns='m_marital_status')\n",
    "\n",
    "imputer = KNNImputer(n_neighbors=5)\n",
    "df = pd.DataFrame(imputer.fit_transform(df),columns=df.columns)\n",
    "df = df.rename(columns={'marital_status': 'imp_marital_status'})\n",
    "df = pd.concat((df,df_marital_status),axis=1)\n",
    "\n",
    "df['imp_marital_status'] = df['imp_marital_status'].round().astype(int)\n",
    "df['imp_marital_status'] = df['imp_marital_status'].apply(marital_status_to_str)\n",
    "df[data_dict['cols']['bools']] = df[data_dict['cols']['bools']].astype(int)"
   ],
   "metadata": {
    "collapsed": false,
    "pycharm": {
     "name": "#%%\n"
    }
   }
  },
  {
   "cell_type": "code",
   "execution_count": 109,
   "outputs": [],
   "source": [
    "# binning\n",
    "df.sort_values('cum_donation',inplace=True)\n",
    "df['cum_range'] = \\\n",
    "    pd.cut(x=df['cum_donation'],\n",
    "           bins=data_dict['dummy']['giving']['bins'],\n",
    "           labels=data_dict['dummy']['giving']['labels'],\n",
    "           right=False)\n",
    "df.sort_values('grad_year',inplace=True)\n",
    "df['grad_decade'] = pd.cut(x=df['grad_year'],\n",
    "                           bins=data_dict['dummy']['grad']['bins'],\n",
    "                           labels=data_dict['dummy']['grad']['labels'],\n",
    "                           right=False)\n",
    "df.sort_index(inplace=True)"
   ],
   "metadata": {
    "collapsed": false,
    "pycharm": {
     "name": "#%%\n"
    }
   }
  },
  {
   "cell_type": "code",
   "execution_count": 110,
   "outputs": [],
   "source": [
    "# dummying\n",
    "dummy_filter = df[data_dict['dummy']['list']]\n",
    "dummy_df = pd.get_dummies(data=dummy_filter,\n",
    "                          prefix=data_dict['dummy']['prefix'],\n",
    "                          columns=data_dict['dummy']['list'])\n",
    "df = pd.concat(([df,dummy_df]),axis=1)\n",
    "\n",
    "# all possible lin/log features\n",
    "X = df.drop(columns=['imp_marital_status','cum_range','grad_decade'])"
   ],
   "metadata": {
    "collapsed": false,
    "pycharm": {
     "name": "#%%\n"
    }
   }
  },
  {
   "cell_type": "code",
   "execution_count": 111,
   "outputs": [],
   "source": [
    "# Different models will be denoted through an encoded sting of\n",
    "# bits from right to left. As more variety is introduced this\n",
    "# bitwise representation will grow in length.\n",
    "\n",
    "# 0th bit [-1]:         0 - logistic regression\n",
    "#                       1 - linear regression\n",
    "# 1st bit [-2]:         0 - grad_year int\n",
    "#                       1 - grad_year binned\n",
    "# 2nd bit [-3]:         0 - cum_donation float\n",
    "#                       1 - cum_donation binned\n",
    "# 3rd-5th bit [-6:-3]:  000 - no automatic feature selection\n",
    "#                       001 - chi square filtering (chi)\n",
    "#                       010 - Random Forest Importance (rfi)\n",
    "#                       011 - Recursive Feature Elimination Cross Validation (rfe)\n",
    "#                       100 - Forward Feature Elimination (ffe)\n",
    "# 6th-7th bit [-8:-6]:  00 - unscaled\n",
    "#                       01 - MinMaxScaler\n",
    "#                       10 - StandardScaler\n",
    "#                       11 - RobustScaler\n",
    "# 8th bit [-9]:         0 - Cross Fold Validation\n",
    "#                       1 - Stacking\n",
    "\n",
    "# 0th bit: is linear regression\n",
    "\n",
    "dict_3bit = dict()\n",
    "\n",
    "for i in [1,0]:\n",
    "    model_bit = deque()\n",
    "    if i == 1:\n",
    "        model_bit.appendleft('1')\n",
    "        y = y_lin\n",
    "        X = sm.add_constant(X)\n",
    "        feature_list_lv0 = list((Counter(X.columns.tolist())\n",
    "                                 -Counter(data_dict['cols']['lin']))\n",
    "                                .elements())\n",
    "\n",
    "    else:\n",
    "        model_bit.appendleft('0')\n",
    "        y = y_log\n",
    "        X = X\n",
    "        feature_list_lv0 = list((Counter(X.columns.tolist())\n",
    "                                 -Counter(data_dict['cols']['log']))\n",
    "                                .elements())\n",
    "\n",
    "\n",
    "    # 1st bit: is grad_year binned\n",
    "    for j in [1,0]:\n",
    "        if j == 1:\n",
    "            model_bit.appendleft('1')\n",
    "            feature_list_lv1 = list((Counter(feature_list_lv0)\n",
    "                                     -Counter(['grad_year']))\n",
    "                                    .elements())\n",
    "        else:\n",
    "            model_bit.appendleft('0')\n",
    "            feature_list_lv1 = list((Counter(feature_list_lv0)\n",
    "                                     -Counter(data_dict['cols']['bin_grad']))\n",
    "                                    .elements())\n",
    "\n",
    "        # 2nd bit: is cum_donation binned\n",
    "        for k in [1,0]:\n",
    "            feature_list_lv2 = feature_list_lv1\n",
    "            if k == 1:\n",
    "                model_bit.appendleft('1')\n",
    "                feature_list_lv2 = list((Counter(feature_list_lv1)\n",
    "                                         -Counter(['cum_donation']))\n",
    "                                        .elements())\n",
    "            else:\n",
    "                model_bit.appendleft('0')\n",
    "                feature_list_lv2 = list((Counter(feature_list_lv1)\n",
    "                     -Counter(data_dict['cols']['bin_giving']))\n",
    "                    .elements())\n",
    "            bit_str = ''.join(model_bit)\n",
    "\n",
    "            # filter linear regressions where linear target would be\n",
    "            # present\n",
    "            if not re.match('1\\d1',bit_str):\n",
    "                model_dict = {\n",
    "                    bit_str: {\n",
    "                        'y': y,\n",
    "                        'X': X[feature_list_lv2]\n",
    "                    }\n",
    "                }\n",
    "                dict_3bit.update(model_dict)\n",
    "            model_bit.popleft()\n",
    "        model_bit.popleft()\n",
    "    model_bit.popleft()"
   ],
   "metadata": {
    "collapsed": false,
    "pycharm": {
     "name": "#%%\n"
    }
   }
  },
  {
   "cell_type": "code",
   "execution_count": 112,
   "outputs": [],
   "source": [
    "# 3th-5th bit: Automatic Feature Selection (afs)\n",
    "# 000 - no automatic feature selection\n",
    "# 001 - chi square filtering (chi)\n",
    "# 010 - Random Forest Importance (rfi)\n",
    "# 011 - Recursive Feature Elimination Cross Validation (rfe)\n",
    "# 100 - Forward Feature Elimination (ffe)\n",
    "\n",
    "def get_chi(bit_str:str, d):\n",
    "    test = SelectKBest(score_func=chi2,k='all')\n",
    "\n",
    "    label = d['y']\n",
    "    features = d['X']\n",
    "\n",
    "    feature_list = list(features.columns)\n",
    "    chi_scores = test.fit(features,label)\n",
    "    chi_list = list(zip(feature_list,chi_scores.scores_))\n",
    "    chi_df = pd.DataFrame(chi_list,columns=['feature','chi'])\n",
    "    chi_df = chi_df[chi_df['chi']>3.8]\n",
    "\n",
    "    filtered_features = chi_df['feature'].tolist()\n",
    "    d.update({'X':d['X'][filtered_features]})\n",
    "    d.update({'afs':chi_df})\n",
    "\n",
    "    return d\n",
    "\n",
    "def get_rfi(bit_str:str, d):\n",
    "    label = d['y']\n",
    "    features = d['X']\n",
    "\n",
    "    feature_list = list(features.columns)\n",
    "    np_features = np.array(features)\n",
    "\n",
    "    if bit_str[-1] == '0':\n",
    "        rf = RandomForestClassifier(n_estimators=1000)\n",
    "    else:\n",
    "        rf = RandomForestRegressor(n_estimators=1000)\n",
    "\n",
    "    rf.fit(np_features,label.values.ravel())\n",
    "    importances = list(rf.feature_importances_)\n",
    "    feature_importances = list(zip(feature_list,importances))\n",
    "    rfi_df = pd.DataFrame(feature_importances,columns=['feature','rfi'])\n",
    "    rfi_df = rfi_df.sort_values(by='rfi',ascending=False)\n",
    "\n",
    "    # filter out features that do not exceed the average importance value\n",
    "    importance_filter = (rfi_df['rfi'].sum())/(rfi_df['rfi'].count())\n",
    "    rfi_df = rfi_df[rfi_df['rfi']>importance_filter]\n",
    "\n",
    "    filtered_features = rfi_df['feature'].tolist()\n",
    "    d.update({'X':d['X'][filtered_features]})\n",
    "    d.update({'afs': rfi_df})\n",
    "\n",
    "    return d\n",
    "\n",
    "def get_rfecv(bit_str, d):\n",
    "    label = d['y']\n",
    "    features = d['X']\n",
    "\n",
    "    feature_list = list(features.columns)\n",
    "\n",
    "    if bit_str[-1] == '0':\n",
    "        estimator = LogisticRegression(max_iter=500)\n",
    "    else:\n",
    "        estimator = LinearRegression()\n",
    "    selector = RFECV(estimator=estimator)\n",
    "    selector.fit(features,label.values.ravel())\n",
    "    ranking = list(selector.support_)\n",
    "    feature_ranking = list(zip(feature_list,ranking))\n",
    "    rfecv_df = pd.DataFrame(feature_ranking,columns=['feature','rfe'])\n",
    "\n",
    "    # filter out features rfe considers insignificant\n",
    "    rfecv_df = rfecv_df[rfecv_df['rfe']==True]\n",
    "\n",
    "    filtered_features = rfecv_df['feature'].tolist()\n",
    "    d.update({'X':d['X'][filtered_features]})\n",
    "    d.update({'afs': rfecv_df})\n",
    "    return d\n",
    "\n",
    "def get_ffe(bit_str:str, d):\n",
    "    label = d['y']\n",
    "    features = d['X']\n",
    "    feature_list = list(features.columns)\n",
    "    ffe = f_regression(features,label.values.ravel())\n",
    "    ffe_list = []\n",
    "    for i in range(0,len(feature_list)):\n",
    "        ffe_list.append({'feature':feature_list[i],\n",
    "                                'ffe':ffe[0][i]})\n",
    "    ffe_df = pd.DataFrame(ffe_list)\n",
    "\n",
    "    ffe_filter = (ffe_df['ffe'].sum()/ffe_df['ffe'].count())\n",
    "    ffe_df = ffe_df[ffe_df['ffe']>ffe_filter]\n",
    "\n",
    "    filtered_features = ffe_df['feature'].tolist()\n",
    "    d.update({'X':d['X'][filtered_features]})\n",
    "    d.update({'afs':ffe_df})\n",
    "    return d\n",
    "\n",
    "dict_6bit = dict()\n",
    "\n",
    "for k_model, v_data in dict_3bit.items():\n",
    "    for auto in [('000', None), ('001', get_chi), ('010', get_rfi),\n",
    "                 ('011', get_rfecv), ('100', get_ffe)]:\n",
    "        model_bit = deque(k_model)\n",
    "        data = v_data.copy()\n",
    "\n",
    "        # skips no automatic feature selection\n",
    "        if auto[0] == '000':\n",
    "            model_bit.appendleft(auto[0])\n",
    "        # skips chi-squaring linear regressions\n",
    "        elif (auto[1] is get_chi) and (bit_str[-1] == '1'):\n",
    "            model_bit.appendleft('000')\n",
    "        else:\n",
    "            model_bit.appendleft(auto[0])\n",
    "            data = auto[1](model_bit,data)\n",
    "        bit_str = ''.join(model_bit)\n",
    "        dict_6bit.update({bit_str: data})"
   ],
   "metadata": {
    "collapsed": false,
    "pycharm": {
     "name": "#%%\n"
    }
   }
  },
  {
   "cell_type": "code",
   "execution_count": 118,
   "outputs": [
    {
     "ename": "ValueError",
     "evalue": "All arrays must be of the same length",
     "output_type": "error",
     "traceback": [
      "\u001B[0;31m---------------------------------------------------------------------------\u001B[0m",
      "\u001B[0;31mValueError\u001B[0m                                Traceback (most recent call last)",
      "Input \u001B[0;32mIn [118]\u001B[0m, in \u001B[0;36m<cell line: 9>\u001B[0;34m()\u001B[0m\n\u001B[1;32m      6\u001B[0m         \u001B[38;5;28;01mif\u001B[39;00m ki \u001B[38;5;241m==\u001B[39m \u001B[38;5;124m'\u001B[39m\u001B[38;5;124mX\u001B[39m\u001B[38;5;124m'\u001B[39m:\n\u001B[1;32m      7\u001B[0m             ff_dict\u001B[38;5;241m.\u001B[39mupdate({k:vi\u001B[38;5;241m.\u001B[39mcolumns\u001B[38;5;241m.\u001B[39mtolist()})\n\u001B[0;32m----> 9\u001B[0m ff_df \u001B[38;5;241m=\u001B[39m \u001B[43mpd\u001B[49m\u001B[38;5;241;43m.\u001B[39;49m\u001B[43mDataFrame\u001B[49m\u001B[38;5;241;43m.\u001B[39;49m\u001B[43mfrom_dict\u001B[49m\u001B[43m(\u001B[49m\u001B[43mff_dict\u001B[49m\u001B[43m)\u001B[49m\n",
      "File \u001B[0;32m~/.local/share/virtualenvs/assignment2-vA0J_QZc/lib/python3.10/site-packages/pandas/core/frame.py:1677\u001B[0m, in \u001B[0;36mDataFrame.from_dict\u001B[0;34m(cls, data, orient, dtype, columns)\u001B[0m\n\u001B[1;32m   1674\u001B[0m     \u001B[38;5;28;01mraise\u001B[39;00m \u001B[38;5;167;01mValueError\u001B[39;00m(\u001B[38;5;124m\"\u001B[39m\u001B[38;5;124monly recognize index or columns for orient\u001B[39m\u001B[38;5;124m\"\u001B[39m)\n\u001B[1;32m   1676\u001B[0m \u001B[38;5;28;01mif\u001B[39;00m orient \u001B[38;5;241m!=\u001B[39m \u001B[38;5;124m\"\u001B[39m\u001B[38;5;124mtight\u001B[39m\u001B[38;5;124m\"\u001B[39m:\n\u001B[0;32m-> 1677\u001B[0m     \u001B[38;5;28;01mreturn\u001B[39;00m \u001B[38;5;28;43mcls\u001B[39;49m\u001B[43m(\u001B[49m\u001B[43mdata\u001B[49m\u001B[43m,\u001B[49m\u001B[43m \u001B[49m\u001B[43mindex\u001B[49m\u001B[38;5;241;43m=\u001B[39;49m\u001B[43mindex\u001B[49m\u001B[43m,\u001B[49m\u001B[43m \u001B[49m\u001B[43mcolumns\u001B[49m\u001B[38;5;241;43m=\u001B[39;49m\u001B[43mcolumns\u001B[49m\u001B[43m,\u001B[49m\u001B[43m \u001B[49m\u001B[43mdtype\u001B[49m\u001B[38;5;241;43m=\u001B[39;49m\u001B[43mdtype\u001B[49m\u001B[43m)\u001B[49m\n\u001B[1;32m   1678\u001B[0m \u001B[38;5;28;01melse\u001B[39;00m:\n\u001B[1;32m   1679\u001B[0m     realdata \u001B[38;5;241m=\u001B[39m data[\u001B[38;5;124m\"\u001B[39m\u001B[38;5;124mdata\u001B[39m\u001B[38;5;124m\"\u001B[39m]\n",
      "File \u001B[0;32m~/.local/share/virtualenvs/assignment2-vA0J_QZc/lib/python3.10/site-packages/pandas/core/frame.py:636\u001B[0m, in \u001B[0;36mDataFrame.__init__\u001B[0;34m(self, data, index, columns, dtype, copy)\u001B[0m\n\u001B[1;32m    630\u001B[0m     mgr \u001B[38;5;241m=\u001B[39m \u001B[38;5;28mself\u001B[39m\u001B[38;5;241m.\u001B[39m_init_mgr(\n\u001B[1;32m    631\u001B[0m         data, axes\u001B[38;5;241m=\u001B[39m{\u001B[38;5;124m\"\u001B[39m\u001B[38;5;124mindex\u001B[39m\u001B[38;5;124m\"\u001B[39m: index, \u001B[38;5;124m\"\u001B[39m\u001B[38;5;124mcolumns\u001B[39m\u001B[38;5;124m\"\u001B[39m: columns}, dtype\u001B[38;5;241m=\u001B[39mdtype, copy\u001B[38;5;241m=\u001B[39mcopy\n\u001B[1;32m    632\u001B[0m     )\n\u001B[1;32m    634\u001B[0m \u001B[38;5;28;01melif\u001B[39;00m \u001B[38;5;28misinstance\u001B[39m(data, \u001B[38;5;28mdict\u001B[39m):\n\u001B[1;32m    635\u001B[0m     \u001B[38;5;66;03m# GH#38939 de facto copy defaults to False only in non-dict cases\u001B[39;00m\n\u001B[0;32m--> 636\u001B[0m     mgr \u001B[38;5;241m=\u001B[39m \u001B[43mdict_to_mgr\u001B[49m\u001B[43m(\u001B[49m\u001B[43mdata\u001B[49m\u001B[43m,\u001B[49m\u001B[43m \u001B[49m\u001B[43mindex\u001B[49m\u001B[43m,\u001B[49m\u001B[43m \u001B[49m\u001B[43mcolumns\u001B[49m\u001B[43m,\u001B[49m\u001B[43m \u001B[49m\u001B[43mdtype\u001B[49m\u001B[38;5;241;43m=\u001B[39;49m\u001B[43mdtype\u001B[49m\u001B[43m,\u001B[49m\u001B[43m \u001B[49m\u001B[43mcopy\u001B[49m\u001B[38;5;241;43m=\u001B[39;49m\u001B[43mcopy\u001B[49m\u001B[43m,\u001B[49m\u001B[43m \u001B[49m\u001B[43mtyp\u001B[49m\u001B[38;5;241;43m=\u001B[39;49m\u001B[43mmanager\u001B[49m\u001B[43m)\u001B[49m\n\u001B[1;32m    637\u001B[0m \u001B[38;5;28;01melif\u001B[39;00m \u001B[38;5;28misinstance\u001B[39m(data, ma\u001B[38;5;241m.\u001B[39mMaskedArray):\n\u001B[1;32m    638\u001B[0m     \u001B[38;5;28;01mimport\u001B[39;00m \u001B[38;5;21;01mnumpy\u001B[39;00m\u001B[38;5;21;01m.\u001B[39;00m\u001B[38;5;21;01mma\u001B[39;00m\u001B[38;5;21;01m.\u001B[39;00m\u001B[38;5;21;01mmrecords\u001B[39;00m \u001B[38;5;28;01mas\u001B[39;00m \u001B[38;5;21;01mmrecords\u001B[39;00m\n",
      "File \u001B[0;32m~/.local/share/virtualenvs/assignment2-vA0J_QZc/lib/python3.10/site-packages/pandas/core/internals/construction.py:502\u001B[0m, in \u001B[0;36mdict_to_mgr\u001B[0;34m(data, index, columns, dtype, typ, copy)\u001B[0m\n\u001B[1;32m    494\u001B[0m     arrays \u001B[38;5;241m=\u001B[39m [\n\u001B[1;32m    495\u001B[0m         x\n\u001B[1;32m    496\u001B[0m         \u001B[38;5;28;01mif\u001B[39;00m \u001B[38;5;129;01mnot\u001B[39;00m \u001B[38;5;28mhasattr\u001B[39m(x, \u001B[38;5;124m\"\u001B[39m\u001B[38;5;124mdtype\u001B[39m\u001B[38;5;124m\"\u001B[39m) \u001B[38;5;129;01mor\u001B[39;00m \u001B[38;5;129;01mnot\u001B[39;00m \u001B[38;5;28misinstance\u001B[39m(x\u001B[38;5;241m.\u001B[39mdtype, ExtensionDtype)\n\u001B[1;32m    497\u001B[0m         \u001B[38;5;28;01melse\u001B[39;00m x\u001B[38;5;241m.\u001B[39mcopy()\n\u001B[1;32m    498\u001B[0m         \u001B[38;5;28;01mfor\u001B[39;00m x \u001B[38;5;129;01min\u001B[39;00m arrays\n\u001B[1;32m    499\u001B[0m     ]\n\u001B[1;32m    500\u001B[0m     \u001B[38;5;66;03m# TODO: can we get rid of the dt64tz special case above?\u001B[39;00m\n\u001B[0;32m--> 502\u001B[0m \u001B[38;5;28;01mreturn\u001B[39;00m \u001B[43marrays_to_mgr\u001B[49m\u001B[43m(\u001B[49m\u001B[43marrays\u001B[49m\u001B[43m,\u001B[49m\u001B[43m \u001B[49m\u001B[43mcolumns\u001B[49m\u001B[43m,\u001B[49m\u001B[43m \u001B[49m\u001B[43mindex\u001B[49m\u001B[43m,\u001B[49m\u001B[43m \u001B[49m\u001B[43mdtype\u001B[49m\u001B[38;5;241;43m=\u001B[39;49m\u001B[43mdtype\u001B[49m\u001B[43m,\u001B[49m\u001B[43m \u001B[49m\u001B[43mtyp\u001B[49m\u001B[38;5;241;43m=\u001B[39;49m\u001B[43mtyp\u001B[49m\u001B[43m,\u001B[49m\u001B[43m \u001B[49m\u001B[43mconsolidate\u001B[49m\u001B[38;5;241;43m=\u001B[39;49m\u001B[43mcopy\u001B[49m\u001B[43m)\u001B[49m\n",
      "File \u001B[0;32m~/.local/share/virtualenvs/assignment2-vA0J_QZc/lib/python3.10/site-packages/pandas/core/internals/construction.py:120\u001B[0m, in \u001B[0;36marrays_to_mgr\u001B[0;34m(arrays, columns, index, dtype, verify_integrity, typ, consolidate)\u001B[0m\n\u001B[1;32m    117\u001B[0m \u001B[38;5;28;01mif\u001B[39;00m verify_integrity:\n\u001B[1;32m    118\u001B[0m     \u001B[38;5;66;03m# figure out the index, if necessary\u001B[39;00m\n\u001B[1;32m    119\u001B[0m     \u001B[38;5;28;01mif\u001B[39;00m index \u001B[38;5;129;01mis\u001B[39;00m \u001B[38;5;28;01mNone\u001B[39;00m:\n\u001B[0;32m--> 120\u001B[0m         index \u001B[38;5;241m=\u001B[39m \u001B[43m_extract_index\u001B[49m\u001B[43m(\u001B[49m\u001B[43marrays\u001B[49m\u001B[43m)\u001B[49m\n\u001B[1;32m    121\u001B[0m     \u001B[38;5;28;01melse\u001B[39;00m:\n\u001B[1;32m    122\u001B[0m         index \u001B[38;5;241m=\u001B[39m ensure_index(index)\n",
      "File \u001B[0;32m~/.local/share/virtualenvs/assignment2-vA0J_QZc/lib/python3.10/site-packages/pandas/core/internals/construction.py:674\u001B[0m, in \u001B[0;36m_extract_index\u001B[0;34m(data)\u001B[0m\n\u001B[1;32m    672\u001B[0m lengths \u001B[38;5;241m=\u001B[39m \u001B[38;5;28mlist\u001B[39m(\u001B[38;5;28mset\u001B[39m(raw_lengths))\n\u001B[1;32m    673\u001B[0m \u001B[38;5;28;01mif\u001B[39;00m \u001B[38;5;28mlen\u001B[39m(lengths) \u001B[38;5;241m>\u001B[39m \u001B[38;5;241m1\u001B[39m:\n\u001B[0;32m--> 674\u001B[0m     \u001B[38;5;28;01mraise\u001B[39;00m \u001B[38;5;167;01mValueError\u001B[39;00m(\u001B[38;5;124m\"\u001B[39m\u001B[38;5;124mAll arrays must be of the same length\u001B[39m\u001B[38;5;124m\"\u001B[39m)\n\u001B[1;32m    676\u001B[0m \u001B[38;5;28;01mif\u001B[39;00m have_dicts:\n\u001B[1;32m    677\u001B[0m     \u001B[38;5;28;01mraise\u001B[39;00m \u001B[38;5;167;01mValueError\u001B[39;00m(\n\u001B[1;32m    678\u001B[0m         \u001B[38;5;124m\"\u001B[39m\u001B[38;5;124mMixing dicts with non-Series may lead to ambiguous ordering.\u001B[39m\u001B[38;5;124m\"\u001B[39m\n\u001B[1;32m    679\u001B[0m     )\n",
      "\u001B[0;31mValueError\u001B[0m: All arrays must be of the same length"
     ]
    }
   ],
   "source": [
    "ff_dict = dict()\n",
    "\n",
    "for k,v in dict_6bit.items():\n",
    "\n",
    "    for ki,vi in v.items():\n",
    "        if ki == 'X':\n",
    "            ff_dict.update({k:vi.columns.tolist()})\n",
    "\n",
    "ff_df = pd.DataFrame.from_dict(ff_dict)"
   ],
   "metadata": {
    "collapsed": false,
    "pycharm": {
     "name": "#%%\n"
    }
   }
  },
  {
   "cell_type": "code",
   "execution_count": 563,
   "outputs": [],
   "source": [
    "# 6th-7th bit: Scaling\n",
    "# 00 - unscaled\n",
    "# 01 - MinMaxScaler\n",
    "# 10 - StandardScaler\n",
    "# 11 - RobustScaler\n",
    "\n",
    "dict_8bit = defaultdict()\n",
    "\n",
    "for k_model, v_data in dict_6bit.items():\n",
    "    for scale in [('00',None),('01',MinMaxScaler()),('10',StandardScaler()),\n",
    "                  ('11',RobustScaler())]:\n",
    "        X_scaler = scale[1]\n",
    "        y_scaler = scale[1]\n",
    "        model_bit = deque(k_model)\n",
    "        data = v_data.copy()\n",
    "\n",
    "        y_scale = data['y']\n",
    "        y_scale_labels = list(y_scale.columns)\n",
    "        X_scale = data['X']\n",
    "        X_scale_labels = list(X_scale.columns)\n",
    "\n",
    "        data.update({'y_scale': y_scale,\n",
    "                     'y_scale_labels': y_scale_labels,\n",
    "                     'X_scale': X_scale,\n",
    "                     'X_scale_labels': X_scale_labels,\n",
    "                     'X_scaler': None,\n",
    "                     'y_scaler': None})\n",
    "\n",
    "        if scale[0] == '00':\n",
    "            model_bit.appendleft(scale[0])\n",
    "\n",
    "        else:\n",
    "            if model_bit[-1] == '1':\n",
    "                y_scale = y_scaler.fit_transform(np.array(y_scale)\n",
    "                                                  .reshape(-1,1))\n",
    "                data.update({'y_scale': y_scale,\n",
    "                             'y_scaler': y_scaler})\n",
    "\n",
    "            model_bit.appendleft(scale[0])\n",
    "            X_scale = X_scaler.fit_transform(X_scale)\n",
    "            data.update({'X_scale': X_scale,\n",
    "                         'X_scaler': X_scaler})\n",
    "        bit_str = ''.join(model_bit)\n",
    "        dict_8bit.update({bit_str: data})"
   ],
   "metadata": {
    "collapsed": false,
    "pycharm": {
     "name": "#%%\n"
    }
   }
  },
  {
   "cell_type": "code",
   "execution_count": 564,
   "outputs": [
    {
     "name": "stdout",
     "output_type": "stream",
     "text": [
      "112\n",
      "00000011\n",
      "\t y \t (5000, 1)\n",
      "\t X \t (5000, 31)\n",
      "\t y_scale \t (5000, 1)\n",
      "\t y_scale_labels \t (1,)\n",
      "\t X_scale \t (5000, 31)\n",
      "\t X_scale_labels \t (31,)\n",
      "01000011\n",
      "\t y \t (5000, 1)\n",
      "\t X \t (5000, 31)\n",
      "\t y_scale \t (5000, 1)\n",
      "\t y_scale_labels \t (1,)\n",
      "\t X_scale \t (5000, 31)\n",
      "\t X_scale_labels \t (31,)\n",
      "10000011\n",
      "\t y \t (5000, 1)\n",
      "\t X \t (5000, 31)\n",
      "\t y_scale \t (5000, 1)\n",
      "\t y_scale_labels \t (1,)\n",
      "\t X_scale \t (5000, 31)\n",
      "\t X_scale_labels \t (31,)\n",
      "11000011\n",
      "\t y \t (5000, 1)\n",
      "\t X \t (5000, 31)\n",
      "\t y_scale \t (5000, 1)\n",
      "\t y_scale_labels \t (1,)\n",
      "\t X_scale \t (5000, 31)\n",
      "\t X_scale_labels \t (31,)\n",
      "00010011\n",
      "\t y \t (5000, 1)\n",
      "\t X \t (5000, 9)\n",
      "\t afs \t (9, 2)\n",
      "\t y_scale \t (5000, 1)\n",
      "\t y_scale_labels \t (1,)\n",
      "\t X_scale \t (5000, 9)\n",
      "\t X_scale_labels \t (9,)\n",
      "01010011\n",
      "\t y \t (5000, 1)\n",
      "\t X \t (5000, 9)\n",
      "\t afs \t (9, 2)\n",
      "\t y_scale \t (5000, 1)\n",
      "\t y_scale_labels \t (1,)\n",
      "\t X_scale \t (5000, 9)\n",
      "\t X_scale_labels \t (9,)\n",
      "10010011\n",
      "\t y \t (5000, 1)\n",
      "\t X \t (5000, 9)\n",
      "\t afs \t (9, 2)\n",
      "\t y_scale \t (5000, 1)\n",
      "\t y_scale_labels \t (1,)\n",
      "\t X_scale \t (5000, 9)\n",
      "\t X_scale_labels \t (9,)\n",
      "11010011\n",
      "\t y \t (5000, 1)\n",
      "\t X \t (5000, 9)\n",
      "\t afs \t (9, 2)\n",
      "\t y_scale \t (5000, 1)\n",
      "\t y_scale_labels \t (1,)\n",
      "\t X_scale \t (5000, 9)\n",
      "\t X_scale_labels \t (9,)\n",
      "00011011\n",
      "\t y \t (5000, 1)\n",
      "\t X \t (5000, 8)\n",
      "\t afs \t (8, 2)\n",
      "\t y_scale \t (5000, 1)\n",
      "\t y_scale_labels \t (1,)\n",
      "\t X_scale \t (5000, 8)\n",
      "\t X_scale_labels \t (8,)\n",
      "01011011\n",
      "\t y \t (5000, 1)\n",
      "\t X \t (5000, 8)\n",
      "\t afs \t (8, 2)\n",
      "\t y_scale \t (5000, 1)\n",
      "\t y_scale_labels \t (1,)\n",
      "\t X_scale \t (5000, 8)\n",
      "\t X_scale_labels \t (8,)\n",
      "10011011\n",
      "\t y \t (5000, 1)\n",
      "\t X \t (5000, 8)\n",
      "\t afs \t (8, 2)\n",
      "\t y_scale \t (5000, 1)\n",
      "\t y_scale_labels \t (1,)\n",
      "\t X_scale \t (5000, 8)\n",
      "\t X_scale_labels \t (8,)\n",
      "11011011\n",
      "\t y \t (5000, 1)\n",
      "\t X \t (5000, 8)\n",
      "\t afs \t (8, 2)\n",
      "\t y_scale \t (5000, 1)\n",
      "\t y_scale_labels \t (1,)\n",
      "\t X_scale \t (5000, 8)\n",
      "\t X_scale_labels \t (8,)\n",
      "00100011\n",
      "\t y \t (5000, 1)\n",
      "\t X \t (5000, 4)\n",
      "\t afs \t (4, 2)\n",
      "\t y_scale \t (5000, 1)\n",
      "\t y_scale_labels \t (1,)\n",
      "\t X_scale \t (5000, 4)\n",
      "\t X_scale_labels \t (4,)\n",
      "01100011\n",
      "\t y \t (5000, 1)\n",
      "\t X \t (5000, 4)\n",
      "\t afs \t (4, 2)\n",
      "\t y_scale \t (5000, 1)\n",
      "\t y_scale_labels \t (1,)\n",
      "\t X_scale \t (5000, 4)\n",
      "\t X_scale_labels \t (4,)\n",
      "10100011\n",
      "\t y \t (5000, 1)\n",
      "\t X \t (5000, 4)\n",
      "\t afs \t (4, 2)\n",
      "\t y_scale \t (5000, 1)\n",
      "\t y_scale_labels \t (1,)\n",
      "\t X_scale \t (5000, 4)\n",
      "\t X_scale_labels \t (4,)\n",
      "11100011\n",
      "\t y \t (5000, 1)\n",
      "\t X \t (5000, 4)\n",
      "\t afs \t (4, 2)\n",
      "\t y_scale \t (5000, 1)\n",
      "\t y_scale_labels \t (1,)\n",
      "\t X_scale \t (5000, 4)\n",
      "\t X_scale_labels \t (4,)\n",
      "00000001\n",
      "\t y \t (5000, 1)\n",
      "\t X \t (5000, 20)\n",
      "\t y_scale \t (5000, 1)\n",
      "\t y_scale_labels \t (1,)\n",
      "\t X_scale \t (5000, 20)\n",
      "\t X_scale_labels \t (20,)\n",
      "01000001\n",
      "\t y \t (5000, 1)\n",
      "\t X \t (5000, 20)\n",
      "\t y_scale \t (5000, 1)\n",
      "\t y_scale_labels \t (1,)\n",
      "\t X_scale \t (5000, 20)\n",
      "\t X_scale_labels \t (20,)\n",
      "10000001\n",
      "\t y \t (5000, 1)\n",
      "\t X \t (5000, 20)\n",
      "\t y_scale \t (5000, 1)\n",
      "\t y_scale_labels \t (1,)\n",
      "\t X_scale \t (5000, 20)\n",
      "\t X_scale_labels \t (20,)\n",
      "11000001\n",
      "\t y \t (5000, 1)\n",
      "\t X \t (5000, 20)\n",
      "\t y_scale \t (5000, 1)\n",
      "\t y_scale_labels \t (1,)\n",
      "\t X_scale \t (5000, 20)\n",
      "\t X_scale_labels \t (20,)\n",
      "00010001\n",
      "\t y \t (5000, 1)\n",
      "\t X \t (5000, 7)\n",
      "\t afs \t (7, 2)\n",
      "\t y_scale \t (5000, 1)\n",
      "\t y_scale_labels \t (1,)\n",
      "\t X_scale \t (5000, 7)\n",
      "\t X_scale_labels \t (7,)\n",
      "01010001\n",
      "\t y \t (5000, 1)\n",
      "\t X \t (5000, 7)\n",
      "\t afs \t (7, 2)\n",
      "\t y_scale \t (5000, 1)\n",
      "\t y_scale_labels \t (1,)\n",
      "\t X_scale \t (5000, 7)\n",
      "\t X_scale_labels \t (7,)\n",
      "10010001\n",
      "\t y \t (5000, 1)\n",
      "\t X \t (5000, 7)\n",
      "\t afs \t (7, 2)\n",
      "\t y_scale \t (5000, 1)\n",
      "\t y_scale_labels \t (1,)\n",
      "\t X_scale \t (5000, 7)\n",
      "\t X_scale_labels \t (7,)\n",
      "11010001\n",
      "\t y \t (5000, 1)\n",
      "\t X \t (5000, 7)\n",
      "\t afs \t (7, 2)\n",
      "\t y_scale \t (5000, 1)\n",
      "\t y_scale_labels \t (1,)\n",
      "\t X_scale \t (5000, 7)\n",
      "\t X_scale_labels \t (7,)\n",
      "00011001\n",
      "\t y \t (5000, 1)\n",
      "\t X \t (5000, 3)\n",
      "\t afs \t (3, 2)\n",
      "\t y_scale \t (5000, 1)\n",
      "\t y_scale_labels \t (1,)\n",
      "\t X_scale \t (5000, 3)\n",
      "\t X_scale_labels \t (3,)\n",
      "01011001\n",
      "\t y \t (5000, 1)\n",
      "\t X \t (5000, 3)\n",
      "\t afs \t (3, 2)\n",
      "\t y_scale \t (5000, 1)\n",
      "\t y_scale_labels \t (1,)\n",
      "\t X_scale \t (5000, 3)\n",
      "\t X_scale_labels \t (3,)\n",
      "10011001\n",
      "\t y \t (5000, 1)\n",
      "\t X \t (5000, 3)\n",
      "\t afs \t (3, 2)\n",
      "\t y_scale \t (5000, 1)\n",
      "\t y_scale_labels \t (1,)\n",
      "\t X_scale \t (5000, 3)\n",
      "\t X_scale_labels \t (3,)\n",
      "11011001\n",
      "\t y \t (5000, 1)\n",
      "\t X \t (5000, 3)\n",
      "\t afs \t (3, 2)\n",
      "\t y_scale \t (5000, 1)\n",
      "\t y_scale_labels \t (1,)\n",
      "\t X_scale \t (5000, 3)\n",
      "\t X_scale_labels \t (3,)\n",
      "00100001\n",
      "\t y \t (5000, 1)\n",
      "\t X \t (5000, 4)\n",
      "\t afs \t (4, 2)\n",
      "\t y_scale \t (5000, 1)\n",
      "\t y_scale_labels \t (1,)\n",
      "\t X_scale \t (5000, 4)\n",
      "\t X_scale_labels \t (4,)\n",
      "01100001\n",
      "\t y \t (5000, 1)\n",
      "\t X \t (5000, 4)\n",
      "\t afs \t (4, 2)\n",
      "\t y_scale \t (5000, 1)\n",
      "\t y_scale_labels \t (1,)\n",
      "\t X_scale \t (5000, 4)\n",
      "\t X_scale_labels \t (4,)\n",
      "10100001\n",
      "\t y \t (5000, 1)\n",
      "\t X \t (5000, 4)\n",
      "\t afs \t (4, 2)\n",
      "\t y_scale \t (5000, 1)\n",
      "\t y_scale_labels \t (1,)\n",
      "\t X_scale \t (5000, 4)\n",
      "\t X_scale_labels \t (4,)\n",
      "11100001\n",
      "\t y \t (5000, 1)\n",
      "\t X \t (5000, 4)\n",
      "\t afs \t (4, 2)\n",
      "\t y_scale \t (5000, 1)\n",
      "\t y_scale_labels \t (1,)\n",
      "\t X_scale \t (5000, 4)\n",
      "\t X_scale_labels \t (4,)\n",
      "00000110\n",
      "\t y \t (5000, 1)\n",
      "\t X \t (5000, 43)\n",
      "\t y_scale \t (5000, 1)\n",
      "\t y_scale_labels \t (1,)\n",
      "\t X_scale \t (5000, 43)\n",
      "\t X_scale_labels \t (43,)\n",
      "01000110\n",
      "\t y \t (5000, 1)\n",
      "\t X \t (5000, 43)\n",
      "\t y_scale \t (5000, 1)\n",
      "\t y_scale_labels \t (1,)\n",
      "\t X_scale \t (5000, 43)\n",
      "\t X_scale_labels \t (43,)\n",
      "10000110\n",
      "\t y \t (5000, 1)\n",
      "\t X \t (5000, 43)\n",
      "\t y_scale \t (5000, 1)\n",
      "\t y_scale_labels \t (1,)\n",
      "\t X_scale \t (5000, 43)\n",
      "\t X_scale_labels \t (43,)\n",
      "11000110\n",
      "\t y \t (5000, 1)\n",
      "\t X \t (5000, 43)\n",
      "\t y_scale \t (5000, 1)\n",
      "\t y_scale_labels \t (1,)\n",
      "\t X_scale \t (5000, 43)\n",
      "\t X_scale_labels \t (43,)\n",
      "00001110\n",
      "\t y \t (5000, 1)\n",
      "\t X \t (5000, 33)\n",
      "\t afs \t (33, 2)\n",
      "\t y_scale \t (5000, 1)\n",
      "\t y_scale_labels \t (1,)\n",
      "\t X_scale \t (5000, 33)\n",
      "\t X_scale_labels \t (33,)\n",
      "01001110\n",
      "\t y \t (5000, 1)\n",
      "\t X \t (5000, 33)\n",
      "\t afs \t (33, 2)\n",
      "\t y_scale \t (5000, 1)\n",
      "\t y_scale_labels \t (1,)\n",
      "\t X_scale \t (5000, 33)\n",
      "\t X_scale_labels \t (33,)\n",
      "10001110\n",
      "\t y \t (5000, 1)\n",
      "\t X \t (5000, 33)\n",
      "\t afs \t (33, 2)\n",
      "\t y_scale \t (5000, 1)\n",
      "\t y_scale_labels \t (1,)\n",
      "\t X_scale \t (5000, 33)\n",
      "\t X_scale_labels \t (33,)\n",
      "11001110\n",
      "\t y \t (5000, 1)\n",
      "\t X \t (5000, 33)\n",
      "\t afs \t (33, 2)\n",
      "\t y_scale \t (5000, 1)\n",
      "\t y_scale_labels \t (1,)\n",
      "\t X_scale \t (5000, 33)\n",
      "\t X_scale_labels \t (33,)\n",
      "00010110\n",
      "\t y \t (5000, 1)\n",
      "\t X \t (5000, 4)\n",
      "\t afs \t (4, 2)\n",
      "\t y_scale \t (5000, 1)\n",
      "\t y_scale_labels \t (1,)\n",
      "\t X_scale \t (5000, 4)\n",
      "\t X_scale_labels \t (4,)\n",
      "01010110\n",
      "\t y \t (5000, 1)\n",
      "\t X \t (5000, 4)\n",
      "\t afs \t (4, 2)\n",
      "\t y_scale \t (5000, 1)\n",
      "\t y_scale_labels \t (1,)\n",
      "\t X_scale \t (5000, 4)\n",
      "\t X_scale_labels \t (4,)\n",
      "10010110\n",
      "\t y \t (5000, 1)\n",
      "\t X \t (5000, 4)\n",
      "\t afs \t (4, 2)\n",
      "\t y_scale \t (5000, 1)\n",
      "\t y_scale_labels \t (1,)\n",
      "\t X_scale \t (5000, 4)\n",
      "\t X_scale_labels \t (4,)\n",
      "11010110\n",
      "\t y \t (5000, 1)\n",
      "\t X \t (5000, 4)\n",
      "\t afs \t (4, 2)\n",
      "\t y_scale \t (5000, 1)\n",
      "\t y_scale_labels \t (1,)\n",
      "\t X_scale \t (5000, 4)\n",
      "\t X_scale_labels \t (4,)\n",
      "00011110\n",
      "\t y \t (5000, 1)\n",
      "\t X \t (5000, 1)\n",
      "\t afs \t (1, 2)\n",
      "\t y_scale \t (5000, 1)\n",
      "\t y_scale_labels \t (1,)\n",
      "\t X_scale \t (5000, 1)\n",
      "\t X_scale_labels \t (1,)\n",
      "01011110\n",
      "\t y \t (5000, 1)\n",
      "\t X \t (5000, 1)\n",
      "\t afs \t (1, 2)\n",
      "\t y_scale \t (5000, 1)\n",
      "\t y_scale_labels \t (1,)\n",
      "\t X_scale \t (5000, 1)\n",
      "\t X_scale_labels \t (1,)\n",
      "10011110\n",
      "\t y \t (5000, 1)\n",
      "\t X \t (5000, 1)\n",
      "\t afs \t (1, 2)\n",
      "\t y_scale \t (5000, 1)\n",
      "\t y_scale_labels \t (1,)\n",
      "\t X_scale \t (5000, 1)\n",
      "\t X_scale_labels \t (1,)\n",
      "11011110\n",
      "\t y \t (5000, 1)\n",
      "\t X \t (5000, 1)\n",
      "\t afs \t (1, 2)\n",
      "\t y_scale \t (5000, 1)\n",
      "\t y_scale_labels \t (1,)\n",
      "\t X_scale \t (5000, 1)\n",
      "\t X_scale_labels \t (1,)\n",
      "00100110\n",
      "\t y \t (5000, 1)\n",
      "\t X \t (5000, 1)\n",
      "\t afs \t (1, 2)\n",
      "\t y_scale \t (5000, 1)\n",
      "\t y_scale_labels \t (1,)\n",
      "\t X_scale \t (5000, 1)\n",
      "\t X_scale_labels \t (1,)\n",
      "01100110\n",
      "\t y \t (5000, 1)\n",
      "\t X \t (5000, 1)\n",
      "\t afs \t (1, 2)\n",
      "\t y_scale \t (5000, 1)\n",
      "\t y_scale_labels \t (1,)\n",
      "\t X_scale \t (5000, 1)\n",
      "\t X_scale_labels \t (1,)\n",
      "10100110\n",
      "\t y \t (5000, 1)\n",
      "\t X \t (5000, 1)\n",
      "\t afs \t (1, 2)\n",
      "\t y_scale \t (5000, 1)\n",
      "\t y_scale_labels \t (1,)\n",
      "\t X_scale \t (5000, 1)\n",
      "\t X_scale_labels \t (1,)\n",
      "11100110\n",
      "\t y \t (5000, 1)\n",
      "\t X \t (5000, 1)\n",
      "\t afs \t (1, 2)\n",
      "\t y_scale \t (5000, 1)\n",
      "\t y_scale_labels \t (1,)\n",
      "\t X_scale \t (5000, 1)\n",
      "\t X_scale_labels \t (1,)\n",
      "00000010\n",
      "\t y \t (5000, 1)\n",
      "\t X \t (5000, 31)\n",
      "\t y_scale \t (5000, 1)\n",
      "\t y_scale_labels \t (1,)\n",
      "\t X_scale \t (5000, 31)\n",
      "\t X_scale_labels \t (31,)\n",
      "01000010\n",
      "\t y \t (5000, 1)\n",
      "\t X \t (5000, 31)\n",
      "\t y_scale \t (5000, 1)\n",
      "\t y_scale_labels \t (1,)\n",
      "\t X_scale \t (5000, 31)\n",
      "\t X_scale_labels \t (31,)\n",
      "10000010\n",
      "\t y \t (5000, 1)\n",
      "\t X \t (5000, 31)\n",
      "\t y_scale \t (5000, 1)\n",
      "\t y_scale_labels \t (1,)\n",
      "\t X_scale \t (5000, 31)\n",
      "\t X_scale_labels \t (31,)\n",
      "11000010\n",
      "\t y \t (5000, 1)\n",
      "\t X \t (5000, 31)\n",
      "\t y_scale \t (5000, 1)\n",
      "\t y_scale_labels \t (1,)\n",
      "\t X_scale \t (5000, 31)\n",
      "\t X_scale_labels \t (31,)\n",
      "00001010\n",
      "\t y \t (5000, 1)\n",
      "\t X \t (5000, 26)\n",
      "\t afs \t (26, 2)\n",
      "\t y_scale \t (5000, 1)\n",
      "\t y_scale_labels \t (1,)\n",
      "\t X_scale \t (5000, 26)\n",
      "\t X_scale_labels \t (26,)\n",
      "01001010\n",
      "\t y \t (5000, 1)\n",
      "\t X \t (5000, 26)\n",
      "\t afs \t (26, 2)\n",
      "\t y_scale \t (5000, 1)\n",
      "\t y_scale_labels \t (1,)\n",
      "\t X_scale \t (5000, 26)\n",
      "\t X_scale_labels \t (26,)\n",
      "10001010\n",
      "\t y \t (5000, 1)\n",
      "\t X \t (5000, 26)\n",
      "\t afs \t (26, 2)\n",
      "\t y_scale \t (5000, 1)\n",
      "\t y_scale_labels \t (1,)\n",
      "\t X_scale \t (5000, 26)\n",
      "\t X_scale_labels \t (26,)\n",
      "11001010\n",
      "\t y \t (5000, 1)\n",
      "\t X \t (5000, 26)\n",
      "\t afs \t (26, 2)\n",
      "\t y_scale \t (5000, 1)\n",
      "\t y_scale_labels \t (1,)\n",
      "\t X_scale \t (5000, 26)\n",
      "\t X_scale_labels \t (26,)\n",
      "00010010\n",
      "\t y \t (5000, 1)\n",
      "\t X \t (5000, 2)\n",
      "\t afs \t (2, 2)\n",
      "\t y_scale \t (5000, 1)\n",
      "\t y_scale_labels \t (1,)\n",
      "\t X_scale \t (5000, 2)\n",
      "\t X_scale_labels \t (2,)\n",
      "01010010\n",
      "\t y \t (5000, 1)\n",
      "\t X \t (5000, 2)\n",
      "\t afs \t (2, 2)\n",
      "\t y_scale \t (5000, 1)\n",
      "\t y_scale_labels \t (1,)\n",
      "\t X_scale \t (5000, 2)\n",
      "\t X_scale_labels \t (2,)\n",
      "10010010\n",
      "\t y \t (5000, 1)\n",
      "\t X \t (5000, 2)\n",
      "\t afs \t (2, 2)\n",
      "\t y_scale \t (5000, 1)\n",
      "\t y_scale_labels \t (1,)\n",
      "\t X_scale \t (5000, 2)\n",
      "\t X_scale_labels \t (2,)\n",
      "11010010\n",
      "\t y \t (5000, 1)\n",
      "\t X \t (5000, 2)\n",
      "\t afs \t (2, 2)\n",
      "\t y_scale \t (5000, 1)\n",
      "\t y_scale_labels \t (1,)\n",
      "\t X_scale \t (5000, 2)\n",
      "\t X_scale_labels \t (2,)\n",
      "00011010\n",
      "\t y \t (5000, 1)\n",
      "\t X \t (5000, 1)\n",
      "\t afs \t (1, 2)\n",
      "\t y_scale \t (5000, 1)\n",
      "\t y_scale_labels \t (1,)\n",
      "\t X_scale \t (5000, 1)\n",
      "\t X_scale_labels \t (1,)\n",
      "01011010\n",
      "\t y \t (5000, 1)\n",
      "\t X \t (5000, 1)\n",
      "\t afs \t (1, 2)\n",
      "\t y_scale \t (5000, 1)\n",
      "\t y_scale_labels \t (1,)\n",
      "\t X_scale \t (5000, 1)\n",
      "\t X_scale_labels \t (1,)\n",
      "10011010\n",
      "\t y \t (5000, 1)\n",
      "\t X \t (5000, 1)\n",
      "\t afs \t (1, 2)\n",
      "\t y_scale \t (5000, 1)\n",
      "\t y_scale_labels \t (1,)\n",
      "\t X_scale \t (5000, 1)\n",
      "\t X_scale_labels \t (1,)\n",
      "11011010\n",
      "\t y \t (5000, 1)\n",
      "\t X \t (5000, 1)\n",
      "\t afs \t (1, 2)\n",
      "\t y_scale \t (5000, 1)\n",
      "\t y_scale_labels \t (1,)\n",
      "\t X_scale \t (5000, 1)\n",
      "\t X_scale_labels \t (1,)\n",
      "00100010\n",
      "\t y \t (5000, 1)\n",
      "\t X \t (5000, 9)\n",
      "\t afs \t (9, 2)\n",
      "\t y_scale \t (5000, 1)\n",
      "\t y_scale_labels \t (1,)\n",
      "\t X_scale \t (5000, 9)\n",
      "\t X_scale_labels \t (9,)\n",
      "01100010\n",
      "\t y \t (5000, 1)\n",
      "\t X \t (5000, 9)\n",
      "\t afs \t (9, 2)\n",
      "\t y_scale \t (5000, 1)\n",
      "\t y_scale_labels \t (1,)\n",
      "\t X_scale \t (5000, 9)\n",
      "\t X_scale_labels \t (9,)\n",
      "10100010\n",
      "\t y \t (5000, 1)\n",
      "\t X \t (5000, 9)\n",
      "\t afs \t (9, 2)\n",
      "\t y_scale \t (5000, 1)\n",
      "\t y_scale_labels \t (1,)\n",
      "\t X_scale \t (5000, 9)\n",
      "\t X_scale_labels \t (9,)\n",
      "11100010\n",
      "\t y \t (5000, 1)\n",
      "\t X \t (5000, 9)\n",
      "\t afs \t (9, 2)\n",
      "\t y_scale \t (5000, 1)\n",
      "\t y_scale_labels \t (1,)\n",
      "\t X_scale \t (5000, 9)\n",
      "\t X_scale_labels \t (9,)\n",
      "00000100\n",
      "\t y \t (5000, 1)\n",
      "\t X \t (5000, 32)\n",
      "\t y_scale \t (5000, 1)\n",
      "\t y_scale_labels \t (1,)\n",
      "\t X_scale \t (5000, 32)\n",
      "\t X_scale_labels \t (32,)\n",
      "01000100\n",
      "\t y \t (5000, 1)\n",
      "\t X \t (5000, 32)\n",
      "\t y_scale \t (5000, 1)\n",
      "\t y_scale_labels \t (1,)\n",
      "\t X_scale \t (5000, 32)\n",
      "\t X_scale_labels \t (32,)\n",
      "10000100\n",
      "\t y \t (5000, 1)\n",
      "\t X \t (5000, 32)\n",
      "\t y_scale \t (5000, 1)\n",
      "\t y_scale_labels \t (1,)\n",
      "\t X_scale \t (5000, 32)\n",
      "\t X_scale_labels \t (32,)\n",
      "11000100\n",
      "\t y \t (5000, 1)\n",
      "\t X \t (5000, 32)\n",
      "\t y_scale \t (5000, 1)\n",
      "\t y_scale_labels \t (1,)\n",
      "\t X_scale \t (5000, 32)\n",
      "\t X_scale_labels \t (32,)\n",
      "00001100\n",
      "\t y \t (5000, 1)\n",
      "\t X \t (5000, 26)\n",
      "\t afs \t (26, 2)\n",
      "\t y_scale \t (5000, 1)\n",
      "\t y_scale_labels \t (1,)\n",
      "\t X_scale \t (5000, 26)\n",
      "\t X_scale_labels \t (26,)\n",
      "01001100\n",
      "\t y \t (5000, 1)\n",
      "\t X \t (5000, 26)\n",
      "\t afs \t (26, 2)\n",
      "\t y_scale \t (5000, 1)\n",
      "\t y_scale_labels \t (1,)\n",
      "\t X_scale \t (5000, 26)\n",
      "\t X_scale_labels \t (26,)\n",
      "10001100\n",
      "\t y \t (5000, 1)\n",
      "\t X \t (5000, 26)\n",
      "\t afs \t (26, 2)\n",
      "\t y_scale \t (5000, 1)\n",
      "\t y_scale_labels \t (1,)\n",
      "\t X_scale \t (5000, 26)\n",
      "\t X_scale_labels \t (26,)\n",
      "11001100\n",
      "\t y \t (5000, 1)\n",
      "\t X \t (5000, 26)\n",
      "\t afs \t (26, 2)\n",
      "\t y_scale \t (5000, 1)\n",
      "\t y_scale_labels \t (1,)\n",
      "\t X_scale \t (5000, 26)\n",
      "\t X_scale_labels \t (26,)\n",
      "00010100\n",
      "\t y \t (5000, 1)\n",
      "\t X \t (5000, 3)\n",
      "\t afs \t (3, 2)\n",
      "\t y_scale \t (5000, 1)\n",
      "\t y_scale_labels \t (1,)\n",
      "\t X_scale \t (5000, 3)\n",
      "\t X_scale_labels \t (3,)\n",
      "01010100\n",
      "\t y \t (5000, 1)\n",
      "\t X \t (5000, 3)\n",
      "\t afs \t (3, 2)\n",
      "\t y_scale \t (5000, 1)\n",
      "\t y_scale_labels \t (1,)\n",
      "\t X_scale \t (5000, 3)\n",
      "\t X_scale_labels \t (3,)\n",
      "10010100\n",
      "\t y \t (5000, 1)\n",
      "\t X \t (5000, 3)\n",
      "\t afs \t (3, 2)\n",
      "\t y_scale \t (5000, 1)\n",
      "\t y_scale_labels \t (1,)\n",
      "\t X_scale \t (5000, 3)\n",
      "\t X_scale_labels \t (3,)\n",
      "11010100\n",
      "\t y \t (5000, 1)\n",
      "\t X \t (5000, 3)\n",
      "\t afs \t (3, 2)\n",
      "\t y_scale \t (5000, 1)\n",
      "\t y_scale_labels \t (1,)\n",
      "\t X_scale \t (5000, 3)\n",
      "\t X_scale_labels \t (3,)\n",
      "00011100\n",
      "\t y \t (5000, 1)\n",
      "\t X \t (5000, 1)\n",
      "\t afs \t (1, 2)\n",
      "\t y_scale \t (5000, 1)\n",
      "\t y_scale_labels \t (1,)\n",
      "\t X_scale \t (5000, 1)\n",
      "\t X_scale_labels \t (1,)\n",
      "01011100\n",
      "\t y \t (5000, 1)\n",
      "\t X \t (5000, 1)\n",
      "\t afs \t (1, 2)\n",
      "\t y_scale \t (5000, 1)\n",
      "\t y_scale_labels \t (1,)\n",
      "\t X_scale \t (5000, 1)\n",
      "\t X_scale_labels \t (1,)\n",
      "10011100\n",
      "\t y \t (5000, 1)\n",
      "\t X \t (5000, 1)\n",
      "\t afs \t (1, 2)\n",
      "\t y_scale \t (5000, 1)\n",
      "\t y_scale_labels \t (1,)\n",
      "\t X_scale \t (5000, 1)\n",
      "\t X_scale_labels \t (1,)\n",
      "11011100\n",
      "\t y \t (5000, 1)\n",
      "\t X \t (5000, 1)\n",
      "\t afs \t (1, 2)\n",
      "\t y_scale \t (5000, 1)\n",
      "\t y_scale_labels \t (1,)\n",
      "\t X_scale \t (5000, 1)\n",
      "\t X_scale_labels \t (1,)\n",
      "00100100\n",
      "\t y \t (5000, 1)\n",
      "\t X \t (5000, 1)\n",
      "\t afs \t (1, 2)\n",
      "\t y_scale \t (5000, 1)\n",
      "\t y_scale_labels \t (1,)\n",
      "\t X_scale \t (5000, 1)\n",
      "\t X_scale_labels \t (1,)\n",
      "01100100\n",
      "\t y \t (5000, 1)\n",
      "\t X \t (5000, 1)\n",
      "\t afs \t (1, 2)\n",
      "\t y_scale \t (5000, 1)\n",
      "\t y_scale_labels \t (1,)\n",
      "\t X_scale \t (5000, 1)\n",
      "\t X_scale_labels \t (1,)\n",
      "10100100\n",
      "\t y \t (5000, 1)\n",
      "\t X \t (5000, 1)\n",
      "\t afs \t (1, 2)\n",
      "\t y_scale \t (5000, 1)\n",
      "\t y_scale_labels \t (1,)\n",
      "\t X_scale \t (5000, 1)\n",
      "\t X_scale_labels \t (1,)\n",
      "11100100\n",
      "\t y \t (5000, 1)\n",
      "\t X \t (5000, 1)\n",
      "\t afs \t (1, 2)\n",
      "\t y_scale \t (5000, 1)\n",
      "\t y_scale_labels \t (1,)\n",
      "\t X_scale \t (5000, 1)\n",
      "\t X_scale_labels \t (1,)\n",
      "00000000\n",
      "\t y \t (5000, 1)\n",
      "\t X \t (5000, 20)\n",
      "\t y_scale \t (5000, 1)\n",
      "\t y_scale_labels \t (1,)\n",
      "\t X_scale \t (5000, 20)\n",
      "\t X_scale_labels \t (20,)\n",
      "01000000\n",
      "\t y \t (5000, 1)\n",
      "\t X \t (5000, 20)\n",
      "\t y_scale \t (5000, 1)\n",
      "\t y_scale_labels \t (1,)\n",
      "\t X_scale \t (5000, 20)\n",
      "\t X_scale_labels \t (20,)\n",
      "10000000\n",
      "\t y \t (5000, 1)\n",
      "\t X \t (5000, 20)\n",
      "\t y_scale \t (5000, 1)\n",
      "\t y_scale_labels \t (1,)\n",
      "\t X_scale \t (5000, 20)\n",
      "\t X_scale_labels \t (20,)\n",
      "11000000\n",
      "\t y \t (5000, 1)\n",
      "\t X \t (5000, 20)\n",
      "\t y_scale \t (5000, 1)\n",
      "\t y_scale_labels \t (1,)\n",
      "\t X_scale \t (5000, 20)\n",
      "\t X_scale_labels \t (20,)\n",
      "00001000\n",
      "\t y \t (5000, 1)\n",
      "\t X \t (5000, 19)\n",
      "\t afs \t (19, 2)\n",
      "\t y_scale \t (5000, 1)\n",
      "\t y_scale_labels \t (1,)\n",
      "\t X_scale \t (5000, 19)\n",
      "\t X_scale_labels \t (19,)\n",
      "01001000\n",
      "\t y \t (5000, 1)\n",
      "\t X \t (5000, 19)\n",
      "\t afs \t (19, 2)\n",
      "\t y_scale \t (5000, 1)\n",
      "\t y_scale_labels \t (1,)\n",
      "\t X_scale \t (5000, 19)\n",
      "\t X_scale_labels \t (19,)\n",
      "10001000\n",
      "\t y \t (5000, 1)\n",
      "\t X \t (5000, 19)\n",
      "\t afs \t (19, 2)\n",
      "\t y_scale \t (5000, 1)\n",
      "\t y_scale_labels \t (1,)\n",
      "\t X_scale \t (5000, 19)\n",
      "\t X_scale_labels \t (19,)\n",
      "11001000\n",
      "\t y \t (5000, 1)\n",
      "\t X \t (5000, 19)\n",
      "\t afs \t (19, 2)\n",
      "\t y_scale \t (5000, 1)\n",
      "\t y_scale_labels \t (1,)\n",
      "\t X_scale \t (5000, 19)\n",
      "\t X_scale_labels \t (19,)\n",
      "00010000\n",
      "\t y \t (5000, 1)\n",
      "\t X \t (5000, 2)\n",
      "\t afs \t (2, 2)\n",
      "\t y_scale \t (5000, 1)\n",
      "\t y_scale_labels \t (1,)\n",
      "\t X_scale \t (5000, 2)\n",
      "\t X_scale_labels \t (2,)\n",
      "01010000\n",
      "\t y \t (5000, 1)\n",
      "\t X \t (5000, 2)\n",
      "\t afs \t (2, 2)\n",
      "\t y_scale \t (5000, 1)\n",
      "\t y_scale_labels \t (1,)\n",
      "\t X_scale \t (5000, 2)\n",
      "\t X_scale_labels \t (2,)\n",
      "10010000\n",
      "\t y \t (5000, 1)\n",
      "\t X \t (5000, 2)\n",
      "\t afs \t (2, 2)\n",
      "\t y_scale \t (5000, 1)\n",
      "\t y_scale_labels \t (1,)\n",
      "\t X_scale \t (5000, 2)\n",
      "\t X_scale_labels \t (2,)\n",
      "11010000\n",
      "\t y \t (5000, 1)\n",
      "\t X \t (5000, 2)\n",
      "\t afs \t (2, 2)\n",
      "\t y_scale \t (5000, 1)\n",
      "\t y_scale_labels \t (1,)\n",
      "\t X_scale \t (5000, 2)\n",
      "\t X_scale_labels \t (2,)\n",
      "00011000\n",
      "\t y \t (5000, 1)\n",
      "\t X \t (5000, 1)\n",
      "\t afs \t (1, 2)\n",
      "\t y_scale \t (5000, 1)\n",
      "\t y_scale_labels \t (1,)\n",
      "\t X_scale \t (5000, 1)\n",
      "\t X_scale_labels \t (1,)\n",
      "01011000\n",
      "\t y \t (5000, 1)\n",
      "\t X \t (5000, 1)\n",
      "\t afs \t (1, 2)\n",
      "\t y_scale \t (5000, 1)\n",
      "\t y_scale_labels \t (1,)\n",
      "\t X_scale \t (5000, 1)\n",
      "\t X_scale_labels \t (1,)\n",
      "10011000\n",
      "\t y \t (5000, 1)\n",
      "\t X \t (5000, 1)\n",
      "\t afs \t (1, 2)\n",
      "\t y_scale \t (5000, 1)\n",
      "\t y_scale_labels \t (1,)\n",
      "\t X_scale \t (5000, 1)\n",
      "\t X_scale_labels \t (1,)\n",
      "11011000\n",
      "\t y \t (5000, 1)\n",
      "\t X \t (5000, 1)\n",
      "\t afs \t (1, 2)\n",
      "\t y_scale \t (5000, 1)\n",
      "\t y_scale_labels \t (1,)\n",
      "\t X_scale \t (5000, 1)\n",
      "\t X_scale_labels \t (1,)\n",
      "00100000\n",
      "\t y \t (5000, 1)\n",
      "\t X \t (5000, 7)\n",
      "\t afs \t (7, 2)\n",
      "\t y_scale \t (5000, 1)\n",
      "\t y_scale_labels \t (1,)\n",
      "\t X_scale \t (5000, 7)\n",
      "\t X_scale_labels \t (7,)\n",
      "01100000\n",
      "\t y \t (5000, 1)\n",
      "\t X \t (5000, 7)\n",
      "\t afs \t (7, 2)\n",
      "\t y_scale \t (5000, 1)\n",
      "\t y_scale_labels \t (1,)\n",
      "\t X_scale \t (5000, 7)\n",
      "\t X_scale_labels \t (7,)\n",
      "10100000\n",
      "\t y \t (5000, 1)\n",
      "\t X \t (5000, 7)\n",
      "\t afs \t (7, 2)\n",
      "\t y_scale \t (5000, 1)\n",
      "\t y_scale_labels \t (1,)\n",
      "\t X_scale \t (5000, 7)\n",
      "\t X_scale_labels \t (7,)\n",
      "11100000\n",
      "\t y \t (5000, 1)\n",
      "\t X \t (5000, 7)\n",
      "\t afs \t (7, 2)\n",
      "\t y_scale \t (5000, 1)\n",
      "\t y_scale_labels \t (1,)\n",
      "\t X_scale \t (5000, 7)\n",
      "\t X_scale_labels \t (7,)\n"
     ]
    }
   ],
   "source": [
    "print(len(dict_8bit))\n",
    "\n",
    "for k,v in dict_8bit.items():\n",
    "    print(k)\n",
    "    for ki,vi in v.items():\n",
    "        print('\\t',ki,'\\t',np.shape(vi))"
   ],
   "metadata": {
    "collapsed": false,
    "pycharm": {
     "name": "#%%\n"
    }
   }
  },
  {
   "cell_type": "code",
   "execution_count": 565,
   "outputs": [],
   "source": [
    "# 9th bit: Modeling\n",
    "# also rescaling\n",
    "# 1 - Stacking\n",
    "# 0 - Cross-fold validation\n",
    "\n",
    "def get_unfit_regressors():\n",
    "    models = list()\n",
    "    models.append(ElasticNet())\n",
    "    models.append(SVR(gamma='scale'))\n",
    "    models.append(DecisionTreeRegressor())\n",
    "    models.append(AdaBoostRegressor())\n",
    "    models.append(RandomForestRegressor(n_estimators=10))\n",
    "    models.append(ExtraTreesRegressor(n_estimators=10))\n",
    "    return models\n",
    "\n",
    "def get_unfit_classifiers():\n",
    "    models = list()\n",
    "    models.append(LogisticRegression())\n",
    "    models.append(DecisionTreeClassifier())\n",
    "    models.append(AdaBoostClassifier())\n",
    "    models.append(RandomForestClassifier(n_estimators=10))\n",
    "    return models\n",
    "\n",
    "def evaluate_model_regressor(y_test, predictions, model):\n",
    "    mse = mean_squared_error(y_test, predictions)\n",
    "    rmse = round(np.sqrt(mse),3)\n",
    "    print(\" RMSE:\" + str(rmse) + \" \" + model.__class__.__name__)\n",
    "\n",
    "def evaluate_model_classifier(y_test, predictions, model):\n",
    "    precision = round(metrics.precision_score(y_test, predictions),2)\n",
    "    recall = round(metrics.recall_score(y_test, predictions), 2)\n",
    "    f1 = round(metrics.f1_score(y_test, predictions), 2)\n",
    "    accuracy = round(metrics.accuracy_score(y_test, predictions), 2)\n",
    "\n",
    "def fit_base_models(X_train, y_train, X_test, models,y_scaler):\n",
    "    dfPredictions = pd.DataFrame()\n",
    "    # Fit base model and store its predictions in dataframe.\n",
    "    for i in range(0, len(models)):\n",
    "        models[i].fit(X_train, y_train)\n",
    "        predictions = models[i].predict(X_test)\n",
    "        if y_scaler:\n",
    "            predictions = y_scaler.inverse_transform(np.array(predictions).reshape(-1,1))\n",
    "        colName = str(i)\n",
    "        # Add base model predictions to column of data frame.\n",
    "        dfPredictions[colName] = predictions\n",
    "    return dfPredictions, models\n",
    "\n",
    "def fit_stacked_model_regressor(X, y):\n",
    "    model = LinearRegression()\n",
    "    model.fit(X, y)\n",
    "    return model\n",
    "\n",
    "def fit_stacked_model_classifier(X, y):\n",
    "    model = LogisticRegression()\n",
    "    model.fit(X, y)\n",
    "    return model\n",
    "\n",
    "def get_cross_fold_log(X,y,X_scaler,y_scaler,selection_name,selection,X_label,\n",
    "                       y_label,k_fold):\n",
    "    accuracy_list = list()\n",
    "    precision_list = list()\n",
    "    recall_list = list()\n",
    "    f1_list = list()\n",
    "    coef_list = list()\n",
    "\n",
    "    for train_index, test_index in k_fold.split(X):\n",
    "        X_train, X_test = X[train_index], X[test_index]\n",
    "        y_train, y_test = y[train_index], y[test_index]\n",
    "\n",
    "        lm = LogisticRegression(fit_intercept=True,\n",
    "                                solver='liblinear')\n",
    "        lm.fit(X_train, np.ravel(y_train))\n",
    "\n",
    "        y_pred = lm.predict(X_test)\n",
    "        if y_scaler:\n",
    "            y_pred = y_scaler.inverse_transform(np.array(y_pred).reshape(-1,1))\n",
    "\n",
    "        accuracy = metrics.accuracy_score(y_test,y_pred)\n",
    "        precision = metrics.precision_score(y_test,y_pred,zero_division=0)\n",
    "        recall = metrics.recall_score(y_test,y_pred,zero_division=0)\n",
    "        f1 = metrics.f1_score(y_test,y_pred,zero_division=0)\n",
    "\n",
    "        accuracy_list.append(accuracy)\n",
    "        precision_list.append(precision)\n",
    "        recall_list.append(recall)\n",
    "        f1_list.append(f1)\n",
    "        coef_list.append(pd.DataFrame({\"feature\":X_label,\"coef\":lm.coef_[0]}))\n",
    "\n",
    "    return {\n",
    "        'accuracy_avg' : np.mean(accuracy_list),\n",
    "        'accuracy_sd' : np.std(accuracy_list),\n",
    "        'precision_avg' : np.mean(precision_list),\n",
    "        'precision_sd' : np.std(precision_list),\n",
    "        'recall_avg' : np.mean(recall_list),\n",
    "        'recall_sd' : np.std(recall_list),\n",
    "        'f1_avg' : np.mean(f1_list),\n",
    "        'f1_sd' : np.std(f1_list),\n",
    "        'coef' : pd.concat(coef_list).groupby('feature',as_index=False,sort=False)['coef'].mean()\n",
    "    }\n",
    "\n",
    "def get_cross_fold_lin(X,y,X_scaler,y_scaler,selection_name,selection,X_label,\n",
    "                       y_label,k_fold):\n",
    "    rmseList = list()\n",
    "    bicList = list()\n",
    "    rsquareLst = list()\n",
    "    coef_list = list()\n",
    "\n",
    "    for train_index, test_index in k_fold.split(X):\n",
    "        X_train = X.loc[X.index.isin(train_index)]\n",
    "        X_test  = X.loc[X.index.isin(test_index)]\n",
    "        y_train = y.loc[y.index.isin(train_index)]\n",
    "        y_test  = y.loc[y.index.isin(test_index)]\n",
    "\n",
    "        # Perform linear regression.\n",
    "        model = sm.OLS(y_train, X_train).fit()\n",
    "        y_pred = model.predict(X_test)\n",
    "        if y_scaler:\n",
    "            y_pred = y_scaler.inverse_transform(np.array(y_pred).reshape(-1,1))\n",
    "\n",
    "        mse    = metrics.mean_squared_error(y_test, y_pred)\n",
    "        rmse   = np.sqrt(mse)\n",
    "        bic    = model.bic\n",
    "        rsqr   = model.rsquared\n",
    "\n",
    "        rmseList.append(rmse)\n",
    "        bicList.append(bic)\n",
    "        rsquareLst.append(rsqr)\n",
    "        coef_list.append(pd.DataFrame({'feature':X_label,'coef':model.params}))\n",
    "\n",
    "    return {\n",
    "        'rmse_avg': np.mean(rmseList),\n",
    "        'rmse_sd': np.std(rmseList),\n",
    "        'bic_avg': np.mean(bicList),\n",
    "        'bic_sd': np.std(bicList),\n",
    "        'rsquare_avg': np.mean(rsquareLst),\n",
    "        'rsquare_sd': np.std(rsquareLst),\n",
    "        'coef': pd.concat(coef_list).groupby('feature',as_index=False,sort=False)['coef'].mean()\n",
    "    }\n",
    "\n",
    "dict_9bit = defaultdict()\n",
    "\n",
    "for k_model, v_data in dict_8bit.items():\n",
    "    for model in ['0','1']:\n",
    "        model_bit = deque(k_model)\n",
    "        data = v_data.copy()\n",
    "\n",
    "        # unwrap the dict\n",
    "        X = data['X_scale']\n",
    "        y = data['y_scale']\n",
    "        X_scaler = data['X_scaler']\n",
    "        y_scaler = data['y_scaler']\n",
    "\n",
    "        for i in [('000', None), ('001', 'chi'), ('010', 'rfi'),\n",
    "                 ('011', 'rfecv'), ('100', 'ffe')]:\n",
    "            if bit_str[-6:-3] == i[0]:\n",
    "                selection_name = i[1]\n",
    "                selection = data['afs']\n",
    "        X_label = data['X_scale_labels']\n",
    "        y_label = data['y_scale_labels']\n",
    "\n",
    "        if model == '0':\n",
    "            model_bit.appendleft('0')\n",
    "            k_fold = KFold(n_splits=3,shuffle=True)\n",
    "            if model_bit[-1] == '0':\n",
    "                result = get_cross_fold_log(X,y,X_scaler,y_scaler,selection_name,selection,X_label,y_label,k_fold)\n",
    "            else:\n",
    "                result = get_cross_fold_lin(X,y,X_scaler,y_scaler,selection_name,selection,X_label,y_label,k_fold)\n",
    "        else:\n",
    "            model_bit.appendleft('1')\n",
    "            X_train, X_temp, y_train, y_temp = train_test_split(X, y, test_size=0.70)\n",
    "            X_test, X_val, y_test, y_val = train_test_split(X_temp, y_temp, test_size=0.50)\n",
    "\n",
    "            if model_bit[-1] == '0':\n",
    "                unfit_models = get_unfit_classifiers()\n",
    "            else:\n",
    "                unfit_models = get_unfit_regressors()\n",
    "\n",
    "            pred_df, models = fit_base_models(X_train,y_train,X_test,unfit_models,y_scaler)\n",
    "\n",
    "            if model_bit[-1] == '0':\n",
    "                stacked_model = fit_stacked_model_classifier(pred_df,y_test)\n",
    "            else:\n",
    "                stacked_model = fit_stacked_model_regressor(pred_df,y_test)\n",
    "\n"
   ],
   "metadata": {
    "collapsed": false,
    "pycharm": {
     "name": "#%%\n"
    }
   }
  },
  {
   "cell_type": "code",
   "execution_count": null,
   "outputs": [],
   "source": [],
   "metadata": {
    "collapsed": false,
    "pycharm": {
     "name": "#%%\n"
    }
   }
  },
  {
   "cell_type": "markdown",
   "source": [
    "# Assignment 2"
   ],
   "metadata": {
    "collapsed": false,
    "pycharm": {
     "name": "#%% md\n"
    }
   }
  },
  {
   "cell_type": "markdown",
   "source": [
    "## Introduction\n",
    "The dataset used in this assignment is provided by Kevin MacDonell and is available at <a href=\"https://cooldata.wordpress.com/cooldatabook/\">CoolData blog</a>. It accompanies a freely published book **COOL DATA: A how-to guide for predictive modeling for higher education advancement and nonprofits using multiple linear regression in Data Desk** (Current version: 1.1.0, 2018-01-13)."
   ],
   "metadata": {
    "collapsed": false,
    "pycharm": {
     "name": "#%% md\n"
    }
   }
  },
  {
   "cell_type": "markdown",
   "source": [
    "## Data Exploration\n",
    "On import - and after some minor tweaking of column names - the data appears as follows:"
   ],
   "metadata": {
    "collapsed": false,
    "pycharm": {
     "name": "#%% md\n"
    }
   }
  },
  {
   "cell_type": "code",
   "execution_count": 98,
   "outputs": [
    {
     "name": "stdout",
     "output_type": "stream",
     "text": [
      "<class 'pandas.core.frame.DataFrame'>\n",
      "RangeIndex: 5000 entries, 0 to 4999\n",
      "Data columns (total 18 columns):\n",
      " #   Column                   Non-Null Count  Dtype   \n",
      "---  ------                   --------------  -----   \n",
      " 0   id                       5000 non-null   object  \n",
      " 1   cum_donation             5000 non-null   float64 \n",
      " 2   has_email                5000 non-null   int64   \n",
      " 3   has_business_phone       5000 non-null   int64   \n",
      " 4   grad_year                5000 non-null   int64   \n",
      " 5   marital_status           4965 non-null   object  \n",
      " 6   has_spousal_record       5000 non-null   int64   \n",
      " 7   has_job_title            5000 non-null   int64   \n",
      " 8   has_activity_athlete     5000 non-null   int64   \n",
      " 9   has_activity_government  5000 non-null   int64   \n",
      " 10  has_activity_other       5000 non-null   int64   \n",
      " 11  has_activity_greek       5000 non-null   int64   \n",
      " 12  is_mr                    5000 non-null   int64   \n",
      " 13  is_ms                    5000 non-null   int64   \n",
      " 14  is_dr                    5000 non-null   int64   \n",
      " 15  is_mrs                   5000 non-null   int64   \n",
      " 16  grad_decade              5000 non-null   category\n",
      " 17  cum_range                5000 non-null   category\n",
      "dtypes: category(2), float64(1), int64(13), object(2)\n",
      "memory usage: 635.9+ KB\n"
     ]
    }
   ],
   "source": [
    "dre_df.info(show_counts=True)"
   ],
   "metadata": {
    "collapsed": false,
    "pycharm": {
     "name": "#%%\n"
    }
   }
  },
  {
   "cell_type": "markdown",
   "source": [
    "Notable here is the largest amount of columns that indicate boolean descriptions of the alumni in question. From this, I am confident in concluding that this dataset has already been significantly cleaned and transformed from its original state to one that is more amenable to statistical analysis.\n",
    "\n",
    "Additional features of interest include the <code>marital_status</code> column, which is the only instance of nulls in this dataset that will require imputing. Furthermore, the <code>cum_donation</code> column contains <code>float64</code> data indicating the total amount the constituent has donated to the client's organization. Lastly, the <code>grad_year</code> column contains information about when the alumni graduated. <code>id</code> will be dropped as it does not have any statistical significance."
   ],
   "metadata": {
    "collapsed": false,
    "pycharm": {
     "name": "#%% md\n"
    }
   }
  },
  {
   "cell_type": "markdown",
   "source": [
    "### Boolean Features"
   ],
   "metadata": {
    "collapsed": false,
    "pycharm": {
     "name": "#%% md\n"
    }
   }
  },
  {
   "cell_type": "code",
   "execution_count": 99,
   "outputs": [
    {
     "name": "stdout",
     "output_type": "stream",
     "text": [
      "has_email                  5000\n",
      "has_business_phone         5000\n",
      "has_spousal_record         5000\n",
      "has_job_title              5000\n",
      "has_activity_athlete       5000\n",
      "has_activity_government    5000\n",
      "has_activity_other         5000\n",
      "has_activity_greek         5000\n",
      "is_mr                      5000\n",
      "is_ms                      5000\n",
      "is_dr                      5000\n",
      "is_mrs                     5000\n",
      "dtype: int64\n"
     ]
    },
    {
     "data": {
      "text/plain": "                            0     1\nhas_email                2125  2875\nhas_business_phone       3171  1829\nhas_spousal_record       4184   816\nhas_job_title            2626  2374\nhas_activity_athlete     4703   297\nhas_activity_government  4902    98\nhas_activity_other       4145   855\nhas_activity_greek       4380   620\nis_mr                    2968  2032\nis_ms                    3752  1248\nis_dr                    3908  1092\nis_mrs                   4484   516",
      "text/html": "<div>\n<style scoped>\n    .dataframe tbody tr th:only-of-type {\n        vertical-align: middle;\n    }\n\n    .dataframe tbody tr th {\n        vertical-align: top;\n    }\n\n    .dataframe thead th {\n        text-align: right;\n    }\n</style>\n<table border=\"1\" class=\"dataframe\">\n  <thead>\n    <tr style=\"text-align: right;\">\n      <th></th>\n      <th>0</th>\n      <th>1</th>\n    </tr>\n  </thead>\n  <tbody>\n    <tr>\n      <th>has_email</th>\n      <td>2125</td>\n      <td>2875</td>\n    </tr>\n    <tr>\n      <th>has_business_phone</th>\n      <td>3171</td>\n      <td>1829</td>\n    </tr>\n    <tr>\n      <th>has_spousal_record</th>\n      <td>4184</td>\n      <td>816</td>\n    </tr>\n    <tr>\n      <th>has_job_title</th>\n      <td>2626</td>\n      <td>2374</td>\n    </tr>\n    <tr>\n      <th>has_activity_athlete</th>\n      <td>4703</td>\n      <td>297</td>\n    </tr>\n    <tr>\n      <th>has_activity_government</th>\n      <td>4902</td>\n      <td>98</td>\n    </tr>\n    <tr>\n      <th>has_activity_other</th>\n      <td>4145</td>\n      <td>855</td>\n    </tr>\n    <tr>\n      <th>has_activity_greek</th>\n      <td>4380</td>\n      <td>620</td>\n    </tr>\n    <tr>\n      <th>is_mr</th>\n      <td>2968</td>\n      <td>2032</td>\n    </tr>\n    <tr>\n      <th>is_ms</th>\n      <td>3752</td>\n      <td>1248</td>\n    </tr>\n    <tr>\n      <th>is_dr</th>\n      <td>3908</td>\n      <td>1092</td>\n    </tr>\n    <tr>\n      <th>is_mrs</th>\n      <td>4484</td>\n      <td>516</td>\n    </tr>\n  </tbody>\n</table>\n</div>"
     },
     "execution_count": 99,
     "metadata": {},
     "output_type": "execute_result"
    }
   ],
   "source": [
    "# Exploring all the boolean columns\n",
    "dre_bool = dre_df[['has_email',\n",
    "                  'has_business_phone',\n",
    "                  'has_spousal_record',\n",
    "                  'has_job_title',\n",
    "                  'has_activity_athlete',\n",
    "                  'has_activity_government',\n",
    "                  'has_activity_other',\n",
    "                  'has_activity_greek',\n",
    "                  'is_mr',\n",
    "                  'is_ms',\n",
    "                  'is_dr',\n",
    "                  'is_mrs']]\n",
    "dre_bool_report = dre_bool.apply(pd.value_counts)\n",
    "print(dre_bool_report.sum())\n",
    "dre_bool_report.T"
   ],
   "metadata": {
    "collapsed": false,
    "pycharm": {
     "name": "#%%\n"
    }
   }
  },
  {
   "cell_type": "markdown",
   "source": [
    "All of the boolean columns add up to the length of the dataset, confirming there are no <code>null</code> values present. Additionally, the <code>dre_bool_report</code> confirms that the only two values present across all booleans columns are in fact 1 and 0."
   ],
   "metadata": {
    "collapsed": false,
    "pycharm": {
     "name": "#%% md\n"
    }
   }
  },
  {
   "cell_type": "code",
   "execution_count": 100,
   "outputs": [
    {
     "data": {
      "text/plain": "<AxesSubplot:>"
     },
     "execution_count": 100,
     "metadata": {},
     "output_type": "execute_result"
    },
    {
     "data": {
      "text/plain": "<Figure size 432x288 with 1 Axes>",
      "image/png": "[encoded data removed]"
     },
     "metadata": {
      "needs_background": "light"
     },
     "output_type": "display_data"
    }
   ],
   "source": [
    "dre_bool_report.T.plot.bar(stacked=True)"
   ],
   "metadata": {
    "collapsed": false,
    "pycharm": {
     "name": "#%%\n"
    }
   }
  },
  {
   "cell_type": "markdown",
   "source": [
    "Looking at a stacked bar chart of the all boolean columns, it is interesting to note that the incidence of <code>True</code> indicators is on average low. The only two columns that exceed 50% are has_email and has_job_title. In terms of descriptive information to have on a dataset of alumni, these are high value assets. Having a present email address allows the client organization to engage in direct mail campaigns and inform the constituent of engagement opportunities with the client organization. Having a job title would allow further slicing of the database by focusing on senior positions."
   ],
   "metadata": {
    "collapsed": false,
    "pycharm": {
     "name": "#%% md\n"
    }
   }
  },
  {
   "cell_type": "markdown",
   "source": [
    "### Marital Status"
   ],
   "metadata": {
    "collapsed": false,
    "pycharm": {
     "name": "#%% md\n"
    }
   }
  },
  {
   "cell_type": "code",
   "execution_count": 87,
   "outputs": [
    {
     "name": "stdout",
     "output_type": "stream",
     "text": [
      "null count 35\n",
      "value count 4965\n"
     ]
    },
    {
     "data": {
      "text/plain": "M    2160\nU    1586\nS     996\nD     110\nW     106\nE       4\nP       2\nZ       1\nName: marital_status, dtype: int64"
     },
     "execution_count": 87,
     "metadata": {},
     "output_type": "execute_result"
    }
   ],
   "source": [
    "# Exploring the category column marital_status\n",
    "dre_column = 'marital_status'\n",
    "print('null count',dre_df[dre_column].isnull().sum())\n",
    "print('value count',dre_df[dre_column].notnull().sum())\n",
    "dre_marital_report = dre_df[dre_column].value_counts()\n",
    "dre_marital_report"
   ],
   "metadata": {
    "collapsed": false,
    "pycharm": {
     "name": "#%%\n"
    }
   }
  },
  {
   "cell_type": "markdown",
   "source": [
    "Marital Status has a number of issues that need to be addressed before this feature can be utilized in a statistical model. First among them is the presence of <code>null</code> values. Second, would be determining what the categories indicate. MacDonell has this to say about the provenance of the categories for this column:\n",
    "\n",
    "> M”, for Married, quite a few are Unknown (U), and almost a thousand are Single (S). “W” and “D” probably stand for Widowed and Divorced. As for the others, your guess is as good as mine.\n",
    "\n",
    "(2018, MacDonell, pg. 18)\n",
    "\n",
    "With this information, a general strategy can be formed for cleaning up and imputing this column. The <code>null</code> values, along with <code>E</code>, <code>P</code>, and <code>Z</code> can be reclassified to <code>U</code>."
   ],
   "metadata": {
    "collapsed": false,
    "pycharm": {
     "name": "#%% md\n"
    }
   }
  },
  {
   "cell_type": "code",
   "execution_count": 84,
   "outputs": [
    {
     "data": {
      "text/plain": "<AxesSubplot:>"
     },
     "execution_count": 84,
     "metadata": {},
     "output_type": "execute_result"
    },
    {
     "data": {
      "text/plain": "<Figure size 432x288 with 1 Axes>",
      "image/png": "[encoded data removed]"
     },
     "metadata": {
      "needs_background": "light"
     },
     "output_type": "display_data"
    }
   ],
   "source": [
    "dre_marital_report.plot.bar(x='marital_status',y='count',rot=0)"
   ],
   "metadata": {
    "collapsed": false,
    "pycharm": {
     "name": "#%%\n"
    }
   }
  },
  {
   "cell_type": "markdown",
   "source": [
    "The majority of constituents are either Married, Unknown, or Single, this indicates that the client organization only comes back into contact with their constituents after they have established themselves. If the client had a direct connection with the registrar of the school they raise funds for, it would be far more likely that the single population would be far higher. This is a good indicator for accuracy in our models as it means it is likely consituents in their database have made an initial connection with them."
   ],
   "metadata": {
    "collapsed": false,
    "pycharm": {
     "name": "#%% md\n"
    }
   }
  },
  {
   "cell_type": "markdown",
   "source": [
    "### Grad Year"
   ],
   "metadata": {
    "collapsed": false,
    "pycharm": {
     "name": "#%% md\n"
    }
   }
  },
  {
   "cell_type": "code",
   "execution_count": 101,
   "outputs": [
    {
     "name": "stdout",
     "output_type": "stream",
     "text": [
      "null count 0\n",
      "value count 5000\n",
      "min val 1911\n",
      "max val 2013\n"
     ]
    },
    {
     "data": {
      "text/plain": "1911      1\n1930      1\n1931      1\n1932      1\n1934      1\n       ... \n2009    135\n2010    130\n2011    129\n2012    103\n2013     12\nName: grad_year, Length: 83, dtype: int64"
     },
     "execution_count": 101,
     "metadata": {},
     "output_type": "execute_result"
    }
   ],
   "source": [
    "# Exploring the grad_year column\n",
    "dre_column = 'grad_year'\n",
    "print('null count',dre_df[dre_column].isnull().sum())\n",
    "print('value count',dre_df[dre_column].notnull().sum())\n",
    "print('min val', dre_df[dre_column].min())\n",
    "print('max val', dre_df[dre_column].max())\n",
    "dre_grad_report = dre_df[dre_column].value_counts()\n",
    "dre_grad_report.sort_index(inplace=True)\n",
    "dre_grad_report"
   ],
   "metadata": {
    "collapsed": false,
    "pycharm": {
     "name": "#%%\n"
    }
   }
  },
  {
   "cell_type": "code",
   "execution_count": 92,
   "outputs": [
    {
     "data": {
      "text/plain": "1900s       0\n1910s       1\n1920s       0\n1930s      12\n1940s      78\n1950s     249\n1960s     497\n1970s     761\n1980s     864\n1990s    1096\n2000s    1068\n2010s     374\nName: grad_decade, dtype: int64"
     },
     "execution_count": 92,
     "metadata": {},
     "output_type": "execute_result"
    }
   ],
   "source": [
    "# let's categorize the date by decade to aid in visualization\n",
    "dre_df['grad_decade'] = pd.cut(x=dre_df['grad_year'],\n",
    "                           bins=data_dict['dummy']['grad']['bins'],\n",
    "                           labels=data_dict['dummy']['grad']['labels'],\n",
    "                           right=False)\n",
    "dre_column = 'grad_decade'\n",
    "dre_grad_decade_report = dre_df[dre_column].value_counts()\n",
    "dre_grad_decade_report.sort_index(inplace=True)\n",
    "dre_grad_decade_report"
   ],
   "metadata": {
    "collapsed": false,
    "pycharm": {
     "name": "#%%\n"
    }
   }
  },
  {
   "cell_type": "markdown",
   "source": [
    "Aggregating this column by decade makes the information far easier to parse. However, I am uncertain if this will provide for a stronger or weaker model, so both versions will be tested (binned and unbinned grad_year). In terms of the distribution, ~40% of the constituents have graduated in the past 3 decades, which is typical for post secondary engagement."
   ],
   "metadata": {
    "collapsed": false,
    "pycharm": {
     "name": "#%% md\n"
    }
   }
  },
  {
   "cell_type": "code",
   "execution_count": 93,
   "outputs": [
    {
     "data": {
      "text/plain": "<AxesSubplot:>"
     },
     "execution_count": 93,
     "metadata": {},
     "output_type": "execute_result"
    },
    {
     "data": {
      "text/plain": "<Figure size 432x288 with 1 Axes>",
      "image/png": "[encoded data removed]"
     },
     "metadata": {
      "needs_background": "light"
     },
     "output_type": "display_data"
    }
   ],
   "source": [
    "dre_grad_decade_report.plot.bar()"
   ],
   "metadata": {
    "collapsed": false,
    "pycharm": {
     "name": "#%%\n"
    }
   }
  },
  {
   "cell_type": "markdown",
   "source": [
    "### Cumulative Donation"
   ],
   "metadata": {
    "collapsed": false,
    "pycharm": {
     "name": "#%% md\n"
    }
   }
  },
  {
   "cell_type": "code",
   "execution_count": 94,
   "outputs": [
    {
     "name": "stdout",
     "output_type": "stream",
     "text": [
      "null count 0\n",
      "value count 5000\n",
      "min val 0.0\n",
      "max val 11187224.58\n"
     ]
    }
   ],
   "source": [
    "# Explore the cum_donation column\n",
    "dre_column = 'cum_donation'\n",
    "print('null count',dre_df[dre_column].isnull().sum())\n",
    "print('value count',dre_df[dre_column].notnull().sum())\n",
    "print('min val', dre_df[dre_column].min())\n",
    "print('max val', dre_df[dre_column].max())"
   ],
   "metadata": {
    "collapsed": false,
    "pycharm": {
     "name": "#%%\n"
    }
   }
  },
  {
   "cell_type": "code",
   "execution_count": 95,
   "outputs": [
    {
     "data": {
      "text/plain": "$0                2555\n$1-$999.99        1843\n$1K-$9.99K         518\n$10K-$24.99K        46\n$25K-$49.99K        14\n$50K-$99.99K         7\n$100K-$249.99K      10\n$250K-$499.99K       4\n$500K-$999.99K       0\n$1M-$2.49M           2\n$2.5M-$4.99M         0\n$5M-$9.99M           0\n$10M-$14.99M         1\nName: cum_range, dtype: int64"
     },
     "execution_count": 95,
     "metadata": {},
     "output_type": "execute_result"
    }
   ],
   "source": [
    "dre_df['cum_range'] = pd.cut(x=dre_df['cum_donation'],\n",
    "                             bins=data_dict['dummy']['giving']['bins'],\n",
    "                             labels=data_dict['dummy']['giving']['labels'],\n",
    "                             right=False)\n",
    "dre_column = 'cum_range'\n",
    "dre_cum_range_report = dre_df[dre_column].value_counts()\n",
    "dre_cum_range_report.sort_index(inplace=True)\n",
    "dre_cum_range_report"
   ],
   "metadata": {
    "collapsed": false,
    "pycharm": {
     "name": "#%%\n"
    }
   }
  },
  {
   "cell_type": "markdown",
   "source": [
    "Similar to <code>grad_year</code> this information has been binned to aid in visual analysis in addition to providing another avenue for statistical analysis. Cumulative Donations will be modeled in their binned and unbinned states. The size of the bins increase as the magnitude of gift increases. A gift chart as demonstrated above is typical of what is used in practice in the fundraising field. It is constructed in this way to ensure the granularity seen at the lower end of giving is not deviated by larger, more infrequent gifts.\n",
    "\n",
    "More than half of this dataset are alumni who haven't contributed - yet. From there, the curve of donations decreases steeply. The values hear are unsurprising for higher-ed."
   ],
   "metadata": {
    "collapsed": false,
    "pycharm": {
     "name": "#%% md\n"
    }
   }
  },
  {
   "cell_type": "code",
   "execution_count": 96,
   "outputs": [
    {
     "data": {
      "text/plain": "<AxesSubplot:>"
     },
     "execution_count": 96,
     "metadata": {},
     "output_type": "execute_result"
    },
    {
     "data": {
      "text/plain": "<Figure size 432x288 with 1 Axes>",
      "image/png": "[encoded data removed]"
     },
     "metadata": {
      "needs_background": "light"
     },
     "output_type": "display_data"
    }
   ],
   "source": [
    "dre_cum_range_report.plot.bar()"
   ],
   "metadata": {
    "collapsed": false,
    "pycharm": {
     "name": "#%%\n"
    }
   }
  },
  {
   "cell_type": "markdown",
   "source": [
    "## Data-Preparation"
   ],
   "metadata": {
    "collapsed": false,
    "pycharm": {
     "name": "#%% md\n"
    }
   }
  },
  {
   "cell_type": "markdown",
   "source": [
    "### Identifying Significant Features\n",
    "The identification of significant features has been automatically implemented through the use of Chi-Square values (chi), Random Forest Importances (rfi), Recursive Feature Elimination with Cross Fold Validation (rfecv), and Forward Feature Elimination (ffe). Some of these feature selection algorithms choose features automatically - chi with features greater than 3.8 and rfecv are two such examples. In the instances where features are merely provided a weight with regard to their significance, the values were averaged on only features that exceeded that average were retained."
   ],
   "metadata": {
    "collapsed": false,
    "pycharm": {
     "name": "#%% md\n"
    }
   }
  },
  {
   "cell_type": "markdown",
   "source": [
    "### Imputing and Variable Creation\n"
   ],
   "metadata": {
    "collapsed": false,
    "pycharm": {
     "name": "#%% md\n"
    }
   }
  },
  {
   "cell_type": "markdown",
   "source": [
    "## Data Modeling"
   ],
   "metadata": {
    "collapsed": false,
    "pycharm": {
     "name": "#%% md\n"
    }
   }
  },
  {
   "cell_type": "markdown",
   "source": [
    "### Scaling"
   ],
   "metadata": {
    "collapsed": false,
    "pycharm": {
     "name": "#%% md\n"
    }
   }
  },
  {
   "cell_type": "markdown",
   "source": [
    "## Model Evaluation"
   ],
   "metadata": {
    "collapsed": false,
    "pycharm": {
     "name": "#%% md\n"
    }
   }
  },
  {
   "cell_type": "markdown",
   "source": [
    "## Conclusion"
   ],
   "metadata": {
    "collapsed": false
   }
  },
  {
   "cell_type": "code",
   "execution_count": 565,
   "outputs": [],
   "source": [],
   "metadata": {
    "collapsed": false,
    "pycharm": {
     "name": "#%%\n"
    }
   }
  }
 ],
 "metadata": {
  "kernelspec": {
   "display_name": "Python 3",
   "language": "python",
   "name": "python3"
  },
  "language_info": {
   "codemirror_mode": {
    "name": "ipython",
    "version": 2
   },
   "file_extension": ".py",
   "mimetype": "text/x-python",
   "name": "python",
   "nbconvert_exporter": "python",
   "pygments_lexer": "ipython2",
   "version": "2.7.6"
  }
 },
 "nbformat": 4,
 "nbformat_minor": 0
}